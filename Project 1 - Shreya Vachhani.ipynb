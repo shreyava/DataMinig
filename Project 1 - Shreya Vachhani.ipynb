{
 "cells": [
  {
   "cell_type": "code",
   "execution_count": 118,
   "id": "bd2903e1",
   "metadata": {
    "scrolled": true
   },
   "outputs": [
    {
     "name": "stdout",
     "output_type": "stream",
     "text": [
      "Requirement already satisfied: numpy in c:\\users\\shrey\\anaconda3\\lib\\site-packages (1.20.3)\n",
      "Requirement already satisfied: pandas in c:\\users\\shrey\\anaconda3\\lib\\site-packages (1.3.4)\n",
      "Requirement already satisfied: matplotlib in c:\\users\\shrey\\anaconda3\\lib\\site-packages (3.4.3)\n",
      "Requirement already satisfied: seaborn in c:\\users\\shrey\\anaconda3\\lib\\site-packages (0.11.2)\n",
      "Requirement already satisfied: python-dateutil>=2.7.3 in c:\\users\\shrey\\anaconda3\\lib\\site-packages (from pandas) (2.8.2)\n",
      "Requirement already satisfied: pytz>=2017.3 in c:\\users\\shrey\\anaconda3\\lib\\site-packages (from pandas) (2021.3)\n",
      "Requirement already satisfied: pillow>=6.2.0 in c:\\users\\shrey\\anaconda3\\lib\\site-packages (from matplotlib) (8.4.0)\n",
      "Requirement already satisfied: pyparsing>=2.2.1 in c:\\users\\shrey\\anaconda3\\lib\\site-packages (from matplotlib) (3.0.4)\n",
      "Requirement already satisfied: cycler>=0.10 in c:\\users\\shrey\\anaconda3\\lib\\site-packages (from matplotlib) (0.10.0)\n",
      "Requirement already satisfied: kiwisolver>=1.0.1 in c:\\users\\shrey\\anaconda3\\lib\\site-packages (from matplotlib) (1.3.1)\n",
      "Requirement already satisfied: scipy>=1.0 in c:\\users\\shrey\\anaconda3\\lib\\site-packages (from seaborn) (1.7.1)\n",
      "Requirement already satisfied: six in c:\\users\\shrey\\anaconda3\\lib\\site-packages (from cycler>=0.10->matplotlib) (1.16.0)\n"
     ]
    }
   ],
   "source": [
    "!pip install numpy pandas matplotlib seaborn\n",
    "import numpy as np\n",
    "import pandas as pd\n",
    "import seaborn as sns\n",
    "import matplotlib.pyplot as plt"
   ]
  },
  {
   "cell_type": "code",
   "execution_count": 119,
   "id": "07c3f23e",
   "metadata": {
    "scrolled": true
   },
   "outputs": [
    {
     "data": {
      "text/html": [
       "<div>\n",
       "<style scoped>\n",
       "    .dataframe tbody tr th:only-of-type {\n",
       "        vertical-align: middle;\n",
       "    }\n",
       "\n",
       "    .dataframe tbody tr th {\n",
       "        vertical-align: top;\n",
       "    }\n",
       "\n",
       "    .dataframe thead th {\n",
       "        text-align: right;\n",
       "    }\n",
       "</style>\n",
       "<table border=\"1\" class=\"dataframe\">\n",
       "  <thead>\n",
       "    <tr style=\"text-align: right;\">\n",
       "      <th></th>\n",
       "      <th>YEAR</th>\n",
       "      <th>TICKETS SOLD</th>\n",
       "      <th>TOTAL BOX OFFICE</th>\n",
       "      <th>TOTAL INFLATION ADJUSTED BOX OFFICE</th>\n",
       "      <th>AVERAGE TICKET PRICE</th>\n",
       "    </tr>\n",
       "  </thead>\n",
       "  <tbody>\n",
       "    <tr>\n",
       "      <th>0</th>\n",
       "      <td>2021</td>\n",
       "      <td>423774881</td>\n",
       "      <td>3.881778e+09</td>\n",
       "      <td>3.881778e+09</td>\n",
       "      <td>9.16</td>\n",
       "    </tr>\n",
       "    <tr>\n",
       "      <th>1</th>\n",
       "      <td>2020</td>\n",
       "      <td>223638958</td>\n",
       "      <td>2.048535e+09</td>\n",
       "      <td>2.048535e+09</td>\n",
       "      <td>9.16</td>\n",
       "    </tr>\n",
       "    <tr>\n",
       "      <th>2</th>\n",
       "      <td>2019</td>\n",
       "      <td>1228541629</td>\n",
       "      <td>1.125344e+10</td>\n",
       "      <td>1.125344e+10</td>\n",
       "      <td>9.16</td>\n",
       "    </tr>\n",
       "    <tr>\n",
       "      <th>3</th>\n",
       "      <td>2018</td>\n",
       "      <td>1311536128</td>\n",
       "      <td>1.194810e+10</td>\n",
       "      <td>1.201367e+10</td>\n",
       "      <td>9.11</td>\n",
       "    </tr>\n",
       "    <tr>\n",
       "      <th>4</th>\n",
       "      <td>2017</td>\n",
       "      <td>1225639761</td>\n",
       "      <td>1.099399e+10</td>\n",
       "      <td>1.122686e+10</td>\n",
       "      <td>8.97</td>\n",
       "    </tr>\n",
       "    <tr>\n",
       "      <th>5</th>\n",
       "      <td>2016</td>\n",
       "      <td>1302556378</td>\n",
       "      <td>1.126712e+10</td>\n",
       "      <td>1.193142e+10</td>\n",
       "      <td>8.65</td>\n",
       "    </tr>\n",
       "    <tr>\n",
       "      <th>6</th>\n",
       "      <td>2015</td>\n",
       "      <td>1323356776</td>\n",
       "      <td>1.115590e+10</td>\n",
       "      <td>1.212195e+10</td>\n",
       "      <td>8.43</td>\n",
       "    </tr>\n",
       "    <tr>\n",
       "      <th>7</th>\n",
       "      <td>2014</td>\n",
       "      <td>1257402920</td>\n",
       "      <td>1.027299e+10</td>\n",
       "      <td>1.151781e+10</td>\n",
       "      <td>8.17</td>\n",
       "    </tr>\n",
       "    <tr>\n",
       "      <th>8</th>\n",
       "      <td>2013</td>\n",
       "      <td>1339168926</td>\n",
       "      <td>1.088745e+10</td>\n",
       "      <td>1.226679e+10</td>\n",
       "      <td>8.13</td>\n",
       "    </tr>\n",
       "    <tr>\n",
       "      <th>9</th>\n",
       "      <td>2012</td>\n",
       "      <td>1380921942</td>\n",
       "      <td>1.099214e+10</td>\n",
       "      <td>1.264924e+10</td>\n",
       "      <td>7.96</td>\n",
       "    </tr>\n",
       "    <tr>\n",
       "      <th>10</th>\n",
       "      <td>2011</td>\n",
       "      <td>1282915168</td>\n",
       "      <td>1.017352e+10</td>\n",
       "      <td>1.175150e+10</td>\n",
       "      <td>7.93</td>\n",
       "    </tr>\n",
       "    <tr>\n",
       "      <th>11</th>\n",
       "      <td>2010</td>\n",
       "      <td>1328549021</td>\n",
       "      <td>1.048225e+10</td>\n",
       "      <td>1.216951e+10</td>\n",
       "      <td>7.89</td>\n",
       "    </tr>\n",
       "    <tr>\n",
       "      <th>12</th>\n",
       "      <td>2009</td>\n",
       "      <td>1418567388</td>\n",
       "      <td>1.063926e+10</td>\n",
       "      <td>1.299405e+10</td>\n",
       "      <td>7.50</td>\n",
       "    </tr>\n",
       "    <tr>\n",
       "      <th>13</th>\n",
       "      <td>2008</td>\n",
       "      <td>1358042073</td>\n",
       "      <td>9.750744e+09</td>\n",
       "      <td>1.243967e+10</td>\n",
       "      <td>7.18</td>\n",
       "    </tr>\n",
       "    <tr>\n",
       "      <th>14</th>\n",
       "      <td>2007</td>\n",
       "      <td>1420036680</td>\n",
       "      <td>9.769855e+09</td>\n",
       "      <td>1.300754e+10</td>\n",
       "      <td>6.88</td>\n",
       "    </tr>\n",
       "    <tr>\n",
       "      <th>15</th>\n",
       "      <td>2006</td>\n",
       "      <td>1398738283</td>\n",
       "      <td>9.161738e+09</td>\n",
       "      <td>1.281244e+10</td>\n",
       "      <td>6.55</td>\n",
       "    </tr>\n",
       "    <tr>\n",
       "      <th>16</th>\n",
       "      <td>2005</td>\n",
       "      <td>1372980280</td>\n",
       "      <td>8.800806e+09</td>\n",
       "      <td>1.257650e+10</td>\n",
       "      <td>6.41</td>\n",
       "    </tr>\n",
       "    <tr>\n",
       "      <th>17</th>\n",
       "      <td>2004</td>\n",
       "      <td>1495651298</td>\n",
       "      <td>9.287997e+09</td>\n",
       "      <td>1.370017e+10</td>\n",
       "      <td>6.21</td>\n",
       "    </tr>\n",
       "    <tr>\n",
       "      <th>18</th>\n",
       "      <td>2003</td>\n",
       "      <td>1524589620</td>\n",
       "      <td>9.193277e+09</td>\n",
       "      <td>1.396524e+10</td>\n",
       "      <td>6.03</td>\n",
       "    </tr>\n",
       "    <tr>\n",
       "      <th>19</th>\n",
       "      <td>2002</td>\n",
       "      <td>1575756527</td>\n",
       "      <td>9.155147e+09</td>\n",
       "      <td>1.443393e+10</td>\n",
       "      <td>5.81</td>\n",
       "    </tr>\n",
       "    <tr>\n",
       "      <th>20</th>\n",
       "      <td>2001</td>\n",
       "      <td>1465874205</td>\n",
       "      <td>8.296850e+09</td>\n",
       "      <td>1.342741e+10</td>\n",
       "      <td>5.66</td>\n",
       "    </tr>\n",
       "    <tr>\n",
       "      <th>21</th>\n",
       "      <td>2000</td>\n",
       "      <td>1397460079</td>\n",
       "      <td>7.532311e+09</td>\n",
       "      <td>1.280073e+10</td>\n",
       "      <td>5.39</td>\n",
       "    </tr>\n",
       "    <tr>\n",
       "      <th>22</th>\n",
       "      <td>1999</td>\n",
       "      <td>1444664086</td>\n",
       "      <td>7.338895e+09</td>\n",
       "      <td>1.323312e+10</td>\n",
       "      <td>5.08</td>\n",
       "    </tr>\n",
       "    <tr>\n",
       "      <th>23</th>\n",
       "      <td>1998</td>\n",
       "      <td>1443832471</td>\n",
       "      <td>6.771575e+09</td>\n",
       "      <td>1.322551e+10</td>\n",
       "      <td>4.69</td>\n",
       "    </tr>\n",
       "    <tr>\n",
       "      <th>24</th>\n",
       "      <td>1997</td>\n",
       "      <td>1357349648</td>\n",
       "      <td>6.230236e+09</td>\n",
       "      <td>1.243332e+10</td>\n",
       "      <td>4.59</td>\n",
       "    </tr>\n",
       "    <tr>\n",
       "      <th>25</th>\n",
       "      <td>1996</td>\n",
       "      <td>1305221290</td>\n",
       "      <td>5.769079e+09</td>\n",
       "      <td>1.195578e+10</td>\n",
       "      <td>4.42</td>\n",
       "    </tr>\n",
       "    <tr>\n",
       "      <th>26</th>\n",
       "      <td>1995</td>\n",
       "      <td>1221705907</td>\n",
       "      <td>5.314421e+09</td>\n",
       "      <td>1.119083e+10</td>\n",
       "      <td>4.35</td>\n",
       "    </tr>\n",
       "  </tbody>\n",
       "</table>\n",
       "</div>"
      ],
      "text/plain": [
       "    YEAR  TICKETS SOLD  TOTAL BOX OFFICE  TOTAL INFLATION ADJUSTED BOX OFFICE  \\\n",
       "0   2021     423774881      3.881778e+09                         3.881778e+09   \n",
       "1   2020     223638958      2.048535e+09                         2.048535e+09   \n",
       "2   2019    1228541629      1.125344e+10                         1.125344e+10   \n",
       "3   2018    1311536128      1.194810e+10                         1.201367e+10   \n",
       "4   2017    1225639761      1.099399e+10                         1.122686e+10   \n",
       "5   2016    1302556378      1.126712e+10                         1.193142e+10   \n",
       "6   2015    1323356776      1.115590e+10                         1.212195e+10   \n",
       "7   2014    1257402920      1.027299e+10                         1.151781e+10   \n",
       "8   2013    1339168926      1.088745e+10                         1.226679e+10   \n",
       "9   2012    1380921942      1.099214e+10                         1.264924e+10   \n",
       "10  2011    1282915168      1.017352e+10                         1.175150e+10   \n",
       "11  2010    1328549021      1.048225e+10                         1.216951e+10   \n",
       "12  2009    1418567388      1.063926e+10                         1.299405e+10   \n",
       "13  2008    1358042073      9.750744e+09                         1.243967e+10   \n",
       "14  2007    1420036680      9.769855e+09                         1.300754e+10   \n",
       "15  2006    1398738283      9.161738e+09                         1.281244e+10   \n",
       "16  2005    1372980280      8.800806e+09                         1.257650e+10   \n",
       "17  2004    1495651298      9.287997e+09                         1.370017e+10   \n",
       "18  2003    1524589620      9.193277e+09                         1.396524e+10   \n",
       "19  2002    1575756527      9.155147e+09                         1.443393e+10   \n",
       "20  2001    1465874205      8.296850e+09                         1.342741e+10   \n",
       "21  2000    1397460079      7.532311e+09                         1.280073e+10   \n",
       "22  1999    1444664086      7.338895e+09                         1.323312e+10   \n",
       "23  1998    1443832471      6.771575e+09                         1.322551e+10   \n",
       "24  1997    1357349648      6.230236e+09                         1.243332e+10   \n",
       "25  1996    1305221290      5.769079e+09                         1.195578e+10   \n",
       "26  1995    1221705907      5.314421e+09                         1.119083e+10   \n",
       "\n",
       "    AVERAGE TICKET PRICE  \n",
       "0                   9.16  \n",
       "1                   9.16  \n",
       "2                   9.16  \n",
       "3                   9.11  \n",
       "4                   8.97  \n",
       "5                   8.65  \n",
       "6                   8.43  \n",
       "7                   8.17  \n",
       "8                   8.13  \n",
       "9                   7.96  \n",
       "10                  7.93  \n",
       "11                  7.89  \n",
       "12                  7.50  \n",
       "13                  7.18  \n",
       "14                  6.88  \n",
       "15                  6.55  \n",
       "16                  6.41  \n",
       "17                  6.21  \n",
       "18                  6.03  \n",
       "19                  5.81  \n",
       "20                  5.66  \n",
       "21                  5.39  \n",
       "22                  5.08  \n",
       "23                  4.69  \n",
       "24                  4.59  \n",
       "25                  4.42  \n",
       "26                  4.35  "
      ]
     },
     "execution_count": 119,
     "metadata": {},
     "output_type": "execute_result"
    }
   ],
   "source": [
    "AnnualTicketSales = pd.read_csv(r'C:/Users/Shrey/Desktop/archive/AnnualTicketSales.csv')\n",
    "AnnualTicketSales"
   ]
  },
  {
   "cell_type": "code",
   "execution_count": 120,
   "id": "f9983c5c",
   "metadata": {
    "scrolled": true
   },
   "outputs": [
    {
     "data": {
      "text/plain": [
       "YEAR                                     int64\n",
       "TICKETS SOLD                             int64\n",
       "TOTAL BOX OFFICE                       float64\n",
       "TOTAL INFLATION ADJUSTED BOX OFFICE    float64\n",
       "AVERAGE TICKET PRICE                   float64\n",
       "dtype: object"
      ]
     },
     "execution_count": 120,
     "metadata": {},
     "output_type": "execute_result"
    }
   ],
   "source": [
    "AnnualTicketSales.dtypes"
   ]
  },
  {
   "cell_type": "code",
   "execution_count": 121,
   "id": "757f503f",
   "metadata": {
    "scrolled": true
   },
   "outputs": [],
   "source": [
    "AnnualTicketSales['TOTAL BOX OFFICE'] = AnnualTicketSales['TOTAL BOX OFFICE'].astype(int)"
   ]
  },
  {
   "cell_type": "code",
   "execution_count": 122,
   "id": "4f400806",
   "metadata": {
    "scrolled": true
   },
   "outputs": [
    {
     "data": {
      "text/plain": [
       "YEAR                                   0\n",
       "TICKETS SOLD                           0\n",
       "TOTAL BOX OFFICE                       0\n",
       "TOTAL INFLATION ADJUSTED BOX OFFICE    0\n",
       "AVERAGE TICKET PRICE                   0\n",
       "dtype: int64"
      ]
     },
     "execution_count": 122,
     "metadata": {},
     "output_type": "execute_result"
    }
   ],
   "source": [
    "AnnualTicketSales.isna().sum()"
   ]
  },
  {
   "cell_type": "code",
   "execution_count": 123,
   "id": "9d7a76ad",
   "metadata": {
    "scrolled": true
   },
   "outputs": [
    {
     "data": {
      "image/png": "[encoded data removed]",
      "text/plain": [
       "<Figure size 432x288 with 1 Axes>"
      ]
     },
     "metadata": {
      "needs_background": "light"
     },
     "output_type": "display_data"
    }
   ],
   "source": [
    "AnnualTicketSales.set_index('YEAR').plot();"
   ]
  },
  {
   "cell_type": "code",
   "execution_count": 124,
   "id": "ac41266f",
   "metadata": {
    "scrolled": true
   },
   "outputs": [
    {
     "data": {
      "text/plain": [
       "[Text(0.5, 1.0, 'Tickets Sold from 1995 to 2021')]"
      ]
     },
     "execution_count": 124,
     "metadata": {},
     "output_type": "execute_result"
    },
    {
     "data": {
      "image/png": "[encoded data removed]",
      "text/plain": [
       "<Figure size 432x288 with 1 Axes>"
      ]
     },
     "metadata": {
      "needs_background": "light"
     },
     "output_type": "display_data"
    }
   ],
   "source": [
    "sns.lineplot(x=\"YEAR\", y=\"TICKETS SOLD\", data=AnnualTicketSales).set(title='Tickets Sold from 1995 to 2021')"
   ]
  },
  {
   "cell_type": "code",
   "execution_count": 125,
   "id": "c1961290",
   "metadata": {},
   "outputs": [
    {
     "data": {
      "text/plain": [
       "[Text(0.5, 1.0, 'Ticket Price from 1995 to 2021')]"
      ]
     },
     "execution_count": 125,
     "metadata": {},
     "output_type": "execute_result"
    },
    {
     "data": {
      "image/png": "[encoded data removed]",
      "text/plain": [
       "<Figure size 432x288 with 1 Axes>"
      ]
     },
     "metadata": {
      "needs_background": "light"
     },
     "output_type": "display_data"
    }
   ],
   "source": [
    "sns.lineplot(x=\"YEAR\", y=\"AVERAGE TICKET PRICE\", data=AnnualTicketSales).set(title='Ticket Price from 1995 to 2021')"
   ]
  },
  {
   "cell_type": "code",
   "execution_count": 126,
   "id": "1f4d1f0b",
   "metadata": {
    "scrolled": true
   },
   "outputs": [
    {
     "data": {
      "text/html": [
       "<div>\n",
       "<style scoped>\n",
       "    .dataframe tbody tr th:only-of-type {\n",
       "        vertical-align: middle;\n",
       "    }\n",
       "\n",
       "    .dataframe tbody tr th {\n",
       "        vertical-align: top;\n",
       "    }\n",
       "\n",
       "    .dataframe thead th {\n",
       "        text-align: right;\n",
       "    }\n",
       "</style>\n",
       "<table border=\"1\" class=\"dataframe\">\n",
       "  <thead>\n",
       "    <tr style=\"text-align: right;\">\n",
       "      <th></th>\n",
       "      <th>YEAR</th>\n",
       "      <th>MOVIE</th>\n",
       "      <th>GENRE</th>\n",
       "      <th>MPAA RATING</th>\n",
       "      <th>DISTRIBUTOR</th>\n",
       "      <th>TOTAL FOR YEAR</th>\n",
       "      <th>TOTAL IN 2019 DOLLARS</th>\n",
       "      <th>TICKETS SOLD</th>\n",
       "    </tr>\n",
       "  </thead>\n",
       "  <tbody>\n",
       "    <tr>\n",
       "      <th>0</th>\n",
       "      <td>1995</td>\n",
       "      <td>Batman Forever</td>\n",
       "      <td>Drama</td>\n",
       "      <td>PG-13</td>\n",
       "      <td>Warner Bros.</td>\n",
       "      <td>184031112.0</td>\n",
       "      <td>387522978.0</td>\n",
       "      <td>42306002</td>\n",
       "    </tr>\n",
       "    <tr>\n",
       "      <th>1</th>\n",
       "      <td>1996</td>\n",
       "      <td>Independence Day</td>\n",
       "      <td>Adventure</td>\n",
       "      <td>PG-13</td>\n",
       "      <td>20th Century Fox</td>\n",
       "      <td>306169255.0</td>\n",
       "      <td>634504608.0</td>\n",
       "      <td>69269062</td>\n",
       "    </tr>\n",
       "    <tr>\n",
       "      <th>2</th>\n",
       "      <td>1997</td>\n",
       "      <td>Men in Black</td>\n",
       "      <td>Adventure</td>\n",
       "      <td>PG-13</td>\n",
       "      <td>Sony Pictures</td>\n",
       "      <td>250650052.0</td>\n",
       "      <td>500207943.0</td>\n",
       "      <td>54607854</td>\n",
       "    </tr>\n",
       "    <tr>\n",
       "      <th>3</th>\n",
       "      <td>1998</td>\n",
       "      <td>Titanic</td>\n",
       "      <td>Adventure</td>\n",
       "      <td>PG-13</td>\n",
       "      <td>Paramount Pictures</td>\n",
       "      <td>443319081.0</td>\n",
       "      <td>865842808.0</td>\n",
       "      <td>94524324</td>\n",
       "    </tr>\n",
       "    <tr>\n",
       "      <th>4</th>\n",
       "      <td>1999</td>\n",
       "      <td>Star Wars Ep. I: The Phantom Menace</td>\n",
       "      <td>Adventure</td>\n",
       "      <td>PG</td>\n",
       "      <td>20th Century Fox</td>\n",
       "      <td>430443350.0</td>\n",
       "      <td>776153749.0</td>\n",
       "      <td>84732942</td>\n",
       "    </tr>\n",
       "    <tr>\n",
       "      <th>5</th>\n",
       "      <td>2000</td>\n",
       "      <td>How the Grinch Stole Christmas</td>\n",
       "      <td>Adventure</td>\n",
       "      <td>PG</td>\n",
       "      <td>Universal</td>\n",
       "      <td>253367455.0</td>\n",
       "      <td>430583644.0</td>\n",
       "      <td>47006948</td>\n",
       "    </tr>\n",
       "    <tr>\n",
       "      <th>6</th>\n",
       "      <td>2001</td>\n",
       "      <td>Harry Potter and the Sorcerer’s Stone</td>\n",
       "      <td>Adventure</td>\n",
       "      <td>PG</td>\n",
       "      <td>Warner Bros.</td>\n",
       "      <td>300404434.0</td>\n",
       "      <td>486166890.0</td>\n",
       "      <td>53074988</td>\n",
       "    </tr>\n",
       "    <tr>\n",
       "      <th>7</th>\n",
       "      <td>2002</td>\n",
       "      <td>Spider-Man</td>\n",
       "      <td>Adventure</td>\n",
       "      <td>PG-13</td>\n",
       "      <td>Sony Pictures</td>\n",
       "      <td>403706375.0</td>\n",
       "      <td>636480273.0</td>\n",
       "      <td>69484746</td>\n",
       "    </tr>\n",
       "    <tr>\n",
       "      <th>8</th>\n",
       "      <td>2003</td>\n",
       "      <td>Finding Nemo</td>\n",
       "      <td>Adventure</td>\n",
       "      <td>G</td>\n",
       "      <td>Walt Disney</td>\n",
       "      <td>339714367.0</td>\n",
       "      <td>516050346.0</td>\n",
       "      <td>56337374</td>\n",
       "    </tr>\n",
       "    <tr>\n",
       "      <th>9</th>\n",
       "      <td>2004</td>\n",
       "      <td>Shrek 2</td>\n",
       "      <td>Adventure</td>\n",
       "      <td>PG</td>\n",
       "      <td>Dreamworks SKG</td>\n",
       "      <td>441226247.0</td>\n",
       "      <td>650826473.0</td>\n",
       "      <td>71050925</td>\n",
       "    </tr>\n",
       "    <tr>\n",
       "      <th>10</th>\n",
       "      <td>2005</td>\n",
       "      <td>Star Wars Ep. III: Revenge of the Sith</td>\n",
       "      <td>Action</td>\n",
       "      <td>PG-13</td>\n",
       "      <td>20th Century Fox</td>\n",
       "      <td>380270577.0</td>\n",
       "      <td>543413171.0</td>\n",
       "      <td>59324582</td>\n",
       "    </tr>\n",
       "    <tr>\n",
       "      <th>11</th>\n",
       "      <td>2006</td>\n",
       "      <td>Pirates of the Caribbean: Dead Man’s Chest</td>\n",
       "      <td>Action</td>\n",
       "      <td>PG-13</td>\n",
       "      <td>Walt Disney</td>\n",
       "      <td>423315812.0</td>\n",
       "      <td>591995851.0</td>\n",
       "      <td>64628368</td>\n",
       "    </tr>\n",
       "    <tr>\n",
       "      <th>12</th>\n",
       "      <td>2007</td>\n",
       "      <td>Spider-Man 3</td>\n",
       "      <td>Adventure</td>\n",
       "      <td>PG-13</td>\n",
       "      <td>Sony Pictures</td>\n",
       "      <td>336530303.0</td>\n",
       "      <td>448054878.0</td>\n",
       "      <td>48914288</td>\n",
       "    </tr>\n",
       "    <tr>\n",
       "      <th>13</th>\n",
       "      <td>2008</td>\n",
       "      <td>The Dark Knight</td>\n",
       "      <td>Adventure</td>\n",
       "      <td>PG-13</td>\n",
       "      <td>Warner Bros.</td>\n",
       "      <td>531001578.0</td>\n",
       "      <td>677433772.0</td>\n",
       "      <td>73955652</td>\n",
       "    </tr>\n",
       "    <tr>\n",
       "      <th>14</th>\n",
       "      <td>2009</td>\n",
       "      <td>Transformers: Revenge of the Fallen</td>\n",
       "      <td>Action</td>\n",
       "      <td>PG-13</td>\n",
       "      <td>Paramount Pictures</td>\n",
       "      <td>402111870.0</td>\n",
       "      <td>491112631.0</td>\n",
       "      <td>53614916</td>\n",
       "    </tr>\n",
       "    <tr>\n",
       "      <th>15</th>\n",
       "      <td>2010</td>\n",
       "      <td>Toy Story 3</td>\n",
       "      <td>Action</td>\n",
       "      <td>G</td>\n",
       "      <td>Walt Disney</td>\n",
       "      <td>415004880.0</td>\n",
       "      <td>481805411.0</td>\n",
       "      <td>52598844</td>\n",
       "    </tr>\n",
       "    <tr>\n",
       "      <th>16</th>\n",
       "      <td>2011</td>\n",
       "      <td>Harry Potter and the Deathly Hallows: Part II</td>\n",
       "      <td>Action</td>\n",
       "      <td>PG-13</td>\n",
       "      <td>Warner Bros.</td>\n",
       "      <td>381011219.0</td>\n",
       "      <td>440108798.0</td>\n",
       "      <td>48046812</td>\n",
       "    </tr>\n",
       "    <tr>\n",
       "      <th>17</th>\n",
       "      <td>2012</td>\n",
       "      <td>The Avengers</td>\n",
       "      <td>Adventure</td>\n",
       "      <td>PG-13</td>\n",
       "      <td>Walt Disney</td>\n",
       "      <td>623357910.0</td>\n",
       "      <td>717331462.0</td>\n",
       "      <td>78311295</td>\n",
       "    </tr>\n",
       "    <tr>\n",
       "      <th>18</th>\n",
       "      <td>2013</td>\n",
       "      <td>Iron Man 3</td>\n",
       "      <td>Adventure</td>\n",
       "      <td>PG-13</td>\n",
       "      <td>Walt Disney</td>\n",
       "      <td>408992272.0</td>\n",
       "      <td>460808016.0</td>\n",
       "      <td>50306552</td>\n",
       "    </tr>\n",
       "    <tr>\n",
       "      <th>19</th>\n",
       "      <td>2014</td>\n",
       "      <td>Guardians of the Galaxy</td>\n",
       "      <td>Adventure</td>\n",
       "      <td>PG-13</td>\n",
       "      <td>Walt Disney</td>\n",
       "      <td>333055258.0</td>\n",
       "      <td>373413235.0</td>\n",
       "      <td>40765637</td>\n",
       "    </tr>\n",
       "    <tr>\n",
       "      <th>20</th>\n",
       "      <td>2015</td>\n",
       "      <td>Star Wars Ep. VII: The Force Awakens</td>\n",
       "      <td>Action</td>\n",
       "      <td>PG-13</td>\n",
       "      <td>Walt Disney</td>\n",
       "      <td>742208942.0</td>\n",
       "      <td>806480887.0</td>\n",
       "      <td>88043765</td>\n",
       "    </tr>\n",
       "    <tr>\n",
       "      <th>21</th>\n",
       "      <td>2016</td>\n",
       "      <td>Finding Dory</td>\n",
       "      <td>Action</td>\n",
       "      <td>PG</td>\n",
       "      <td>Walt Disney</td>\n",
       "      <td>486295561.0</td>\n",
       "      <td>514967322.0</td>\n",
       "      <td>56219140</td>\n",
       "    </tr>\n",
       "    <tr>\n",
       "      <th>22</th>\n",
       "      <td>2017</td>\n",
       "      <td>Star Wars Ep. VIII: The Last Jedi</td>\n",
       "      <td>Action</td>\n",
       "      <td>PG-13</td>\n",
       "      <td>Walt Disney</td>\n",
       "      <td>517218368.0</td>\n",
       "      <td>528173936.0</td>\n",
       "      <td>57660910</td>\n",
       "    </tr>\n",
       "    <tr>\n",
       "      <th>23</th>\n",
       "      <td>2018</td>\n",
       "      <td>Black Panther</td>\n",
       "      <td>Action</td>\n",
       "      <td>PG-13</td>\n",
       "      <td>Walt Disney</td>\n",
       "      <td>700059566.0</td>\n",
       "      <td>703901821.0</td>\n",
       "      <td>76845177</td>\n",
       "    </tr>\n",
       "    <tr>\n",
       "      <th>24</th>\n",
       "      <td>2019</td>\n",
       "      <td>Avengers: Endgame</td>\n",
       "      <td>NaN</td>\n",
       "      <td>PG-13</td>\n",
       "      <td>Walt Disney</td>\n",
       "      <td>858373000.0</td>\n",
       "      <td>858373002.0</td>\n",
       "      <td>93708843</td>\n",
       "    </tr>\n",
       "    <tr>\n",
       "      <th>25</th>\n",
       "      <td>2020</td>\n",
       "      <td>Bad Boys For Life</td>\n",
       "      <td>NaN</td>\n",
       "      <td>R</td>\n",
       "      <td>Sony Pictures</td>\n",
       "      <td>204417855.0</td>\n",
       "      <td>204417848.0</td>\n",
       "      <td>22316359</td>\n",
       "    </tr>\n",
       "    <tr>\n",
       "      <th>26</th>\n",
       "      <td>2021</td>\n",
       "      <td>Shang-Chi and the Legend of the Ten Rings</td>\n",
       "      <td>NaN</td>\n",
       "      <td>PG-13</td>\n",
       "      <td>Walt Disney</td>\n",
       "      <td>224226704.0</td>\n",
       "      <td>224226704.0</td>\n",
       "      <td>24478897</td>\n",
       "    </tr>\n",
       "  </tbody>\n",
       "</table>\n",
       "</div>"
      ],
      "text/plain": [
       "    YEAR                                          MOVIE      GENRE  \\\n",
       "0   1995                                 Batman Forever      Drama   \n",
       "1   1996                               Independence Day  Adventure   \n",
       "2   1997                                   Men in Black  Adventure   \n",
       "3   1998                                        Titanic  Adventure   \n",
       "4   1999            Star Wars Ep. I: The Phantom Menace  Adventure   \n",
       "5   2000                 How the Grinch Stole Christmas  Adventure   \n",
       "6   2001          Harry Potter and the Sorcerer’s Stone  Adventure   \n",
       "7   2002                                     Spider-Man  Adventure   \n",
       "8   2003                                   Finding Nemo  Adventure   \n",
       "9   2004                                        Shrek 2  Adventure   \n",
       "10  2005         Star Wars Ep. III: Revenge of the Sith     Action   \n",
       "11  2006     Pirates of the Caribbean: Dead Man’s Chest     Action   \n",
       "12  2007                                   Spider-Man 3  Adventure   \n",
       "13  2008                                The Dark Knight  Adventure   \n",
       "14  2009            Transformers: Revenge of the Fallen     Action   \n",
       "15  2010                                    Toy Story 3     Action   \n",
       "16  2011  Harry Potter and the Deathly Hallows: Part II     Action   \n",
       "17  2012                                   The Avengers  Adventure   \n",
       "18  2013                                     Iron Man 3  Adventure   \n",
       "19  2014                        Guardians of the Galaxy  Adventure   \n",
       "20  2015           Star Wars Ep. VII: The Force Awakens     Action   \n",
       "21  2016                                   Finding Dory     Action   \n",
       "22  2017              Star Wars Ep. VIII: The Last Jedi     Action   \n",
       "23  2018                                  Black Panther     Action   \n",
       "24  2019                              Avengers: Endgame        NaN   \n",
       "25  2020                              Bad Boys For Life        NaN   \n",
       "26  2021      Shang-Chi and the Legend of the Ten Rings        NaN   \n",
       "\n",
       "   MPAA RATING         DISTRIBUTOR  TOTAL FOR YEAR  TOTAL IN 2019 DOLLARS  \\\n",
       "0        PG-13        Warner Bros.     184031112.0            387522978.0   \n",
       "1        PG-13    20th Century Fox     306169255.0            634504608.0   \n",
       "2        PG-13       Sony Pictures     250650052.0            500207943.0   \n",
       "3        PG-13  Paramount Pictures     443319081.0            865842808.0   \n",
       "4           PG    20th Century Fox     430443350.0            776153749.0   \n",
       "5           PG           Universal     253367455.0            430583644.0   \n",
       "6           PG        Warner Bros.     300404434.0            486166890.0   \n",
       "7        PG-13       Sony Pictures     403706375.0            636480273.0   \n",
       "8            G         Walt Disney     339714367.0            516050346.0   \n",
       "9           PG      Dreamworks SKG     441226247.0            650826473.0   \n",
       "10       PG-13    20th Century Fox     380270577.0            543413171.0   \n",
       "11       PG-13         Walt Disney     423315812.0            591995851.0   \n",
       "12       PG-13       Sony Pictures     336530303.0            448054878.0   \n",
       "13       PG-13        Warner Bros.     531001578.0            677433772.0   \n",
       "14       PG-13  Paramount Pictures     402111870.0            491112631.0   \n",
       "15           G         Walt Disney     415004880.0            481805411.0   \n",
       "16       PG-13        Warner Bros.     381011219.0            440108798.0   \n",
       "17       PG-13         Walt Disney     623357910.0            717331462.0   \n",
       "18       PG-13         Walt Disney     408992272.0            460808016.0   \n",
       "19       PG-13         Walt Disney     333055258.0            373413235.0   \n",
       "20       PG-13         Walt Disney     742208942.0            806480887.0   \n",
       "21          PG         Walt Disney     486295561.0            514967322.0   \n",
       "22       PG-13         Walt Disney     517218368.0            528173936.0   \n",
       "23       PG-13         Walt Disney     700059566.0            703901821.0   \n",
       "24       PG-13         Walt Disney     858373000.0            858373002.0   \n",
       "25           R       Sony Pictures     204417855.0            204417848.0   \n",
       "26       PG-13         Walt Disney     224226704.0            224226704.0   \n",
       "\n",
       "    TICKETS SOLD  \n",
       "0       42306002  \n",
       "1       69269062  \n",
       "2       54607854  \n",
       "3       94524324  \n",
       "4       84732942  \n",
       "5       47006948  \n",
       "6       53074988  \n",
       "7       69484746  \n",
       "8       56337374  \n",
       "9       71050925  \n",
       "10      59324582  \n",
       "11      64628368  \n",
       "12      48914288  \n",
       "13      73955652  \n",
       "14      53614916  \n",
       "15      52598844  \n",
       "16      48046812  \n",
       "17      78311295  \n",
       "18      50306552  \n",
       "19      40765637  \n",
       "20      88043765  \n",
       "21      56219140  \n",
       "22      57660910  \n",
       "23      76845177  \n",
       "24      93708843  \n",
       "25      22316359  \n",
       "26      24478897  "
      ]
     },
     "execution_count": 126,
     "metadata": {},
     "output_type": "execute_result"
    }
   ],
   "source": [
    "HighestGrossers = pd.read_csv(r'C:/Users/Shrey/Desktop/archive/HighestGrossers.csv')\n",
    "HighestGrossers"
   ]
  },
  {
   "cell_type": "code",
   "execution_count": 127,
   "id": "28958ca7",
   "metadata": {
    "scrolled": true
   },
   "outputs": [
    {
     "data": {
      "text/plain": [
       "YEAR                       int64\n",
       "MOVIE                     object\n",
       "GENRE                     object\n",
       "MPAA RATING               object\n",
       "DISTRIBUTOR               object\n",
       "TOTAL FOR YEAR           float64\n",
       "TOTAL IN 2019 DOLLARS    float64\n",
       "TICKETS SOLD               int64\n",
       "dtype: object"
      ]
     },
     "execution_count": 127,
     "metadata": {},
     "output_type": "execute_result"
    }
   ],
   "source": [
    "HighestGrossers.dtypes"
   ]
  },
  {
   "cell_type": "code",
   "execution_count": 128,
   "id": "b5433d3c",
   "metadata": {
    "scrolled": true
   },
   "outputs": [],
   "source": [
    "HighestGrossers.at[24, 'GENRE'] = 'Action'\n",
    "HighestGrossers.at[25, 'GENRE'] = 'Action'\n",
    "HighestGrossers.at[26, 'GENRE'] = 'Action'"
   ]
  },
  {
   "cell_type": "code",
   "execution_count": 129,
   "id": "dbda9a07",
   "metadata": {
    "scrolled": true
   },
   "outputs": [
    {
     "data": {
      "text/plain": [
       "YEAR                     0\n",
       "MOVIE                    0\n",
       "GENRE                    0\n",
       "MPAA RATING              0\n",
       "DISTRIBUTOR              0\n",
       "TOTAL FOR YEAR           0\n",
       "TOTAL IN 2019 DOLLARS    0\n",
       "TICKETS SOLD             0\n",
       "dtype: int64"
      ]
     },
     "execution_count": 129,
     "metadata": {},
     "output_type": "execute_result"
    }
   ],
   "source": [
    "HighestGrossers.isna().sum()"
   ]
  },
  {
   "cell_type": "code",
   "execution_count": 130,
   "id": "31d2a3f4",
   "metadata": {
    "scrolled": true
   },
   "outputs": [
    {
     "data": {
      "text/plain": [
       "Text(0.5, 0, 'Movie Genre')"
      ]
     },
     "execution_count": 130,
     "metadata": {},
     "output_type": "execute_result"
    },
    {
     "data": {
      "image/png": "[encoded data removed]",
      "text/plain": [
       "<Figure size 432x288 with 1 Axes>"
      ]
     },
     "metadata": {
      "needs_background": "light"
     },
     "output_type": "display_data"
    }
   ],
   "source": [
    "HighestGrossers.GENRE.value_counts().plot(kind='bar')\n",
    "plt.title('Number of appearances in dataset')\n",
    "plt.ylabel('Frequency')\n",
    "plt.xlabel('Movie Genre')"
   ]
  },
  {
   "cell_type": "code",
   "execution_count": 131,
   "id": "b9fa8e25",
   "metadata": {
    "scrolled": true
   },
   "outputs": [
    {
     "data": {
      "text/plain": [
       "Text(0.5, 0, 'Studio Name')"
      ]
     },
     "execution_count": 131,
     "metadata": {},
     "output_type": "execute_result"
    },
    {
     "data": {
      "image/png": "[encoded data removed]",
      "text/plain": [
       "<Figure size 432x288 with 1 Axes>"
      ]
     },
     "metadata": {
      "needs_background": "light"
     },
     "output_type": "display_data"
    }
   ],
   "source": [
    "HighestGrossers.DISTRIBUTOR.value_counts().plot(kind='bar')\n",
    "plt.title('Highest Grossing Films Produced')\n",
    "plt.ylabel('Frequency')\n",
    "plt.xlabel('Studio Name')"
   ]
  },
  {
   "cell_type": "code",
   "execution_count": 132,
   "id": "5dce133b",
   "metadata": {
    "scrolled": true
   },
   "outputs": [
    {
     "data": {
      "text/html": [
       "<div>\n",
       "<style scoped>\n",
       "    .dataframe tbody tr th:only-of-type {\n",
       "        vertical-align: middle;\n",
       "    }\n",
       "\n",
       "    .dataframe tbody tr th {\n",
       "        vertical-align: top;\n",
       "    }\n",
       "\n",
       "    .dataframe thead th {\n",
       "        text-align: right;\n",
       "    }\n",
       "</style>\n",
       "<table border=\"1\" class=\"dataframe\">\n",
       "  <thead>\n",
       "    <tr style=\"text-align: right;\">\n",
       "      <th></th>\n",
       "      <th>RANK</th>\n",
       "      <th>CREATIVE TYPES</th>\n",
       "      <th>MOVIES</th>\n",
       "      <th>TOTAL GROSS</th>\n",
       "      <th>AVERAGE GROSS</th>\n",
       "      <th>MARKET SHARE</th>\n",
       "    </tr>\n",
       "  </thead>\n",
       "  <tbody>\n",
       "    <tr>\n",
       "      <th>0</th>\n",
       "      <td>1</td>\n",
       "      <td>Contemporary Fiction</td>\n",
       "      <td>7442</td>\n",
       "      <td>9.620373e+10</td>\n",
       "      <td>12927133.0</td>\n",
       "      <td>40.46%</td>\n",
       "    </tr>\n",
       "    <tr>\n",
       "      <th>1</th>\n",
       "      <td>2</td>\n",
       "      <td>Kids Fiction</td>\n",
       "      <td>564</td>\n",
       "      <td>3.203554e+10</td>\n",
       "      <td>56800602.0</td>\n",
       "      <td>13.47%</td>\n",
       "    </tr>\n",
       "    <tr>\n",
       "      <th>2</th>\n",
       "      <td>3</td>\n",
       "      <td>Science Fiction</td>\n",
       "      <td>724</td>\n",
       "      <td>2.992266e+10</td>\n",
       "      <td>41329642.0</td>\n",
       "      <td>12.59%</td>\n",
       "    </tr>\n",
       "    <tr>\n",
       "      <th>3</th>\n",
       "      <td>4</td>\n",
       "      <td>Fantasy</td>\n",
       "      <td>759</td>\n",
       "      <td>2.172406e+10</td>\n",
       "      <td>28621953.0</td>\n",
       "      <td>9.14%</td>\n",
       "    </tr>\n",
       "    <tr>\n",
       "      <th>4</th>\n",
       "      <td>5</td>\n",
       "      <td>Super Hero</td>\n",
       "      <td>129</td>\n",
       "      <td>2.027316e+10</td>\n",
       "      <td>157156263.0</td>\n",
       "      <td>8.53%</td>\n",
       "    </tr>\n",
       "    <tr>\n",
       "      <th>5</th>\n",
       "      <td>6</td>\n",
       "      <td>Historical Fiction</td>\n",
       "      <td>1487</td>\n",
       "      <td>1.852126e+10</td>\n",
       "      <td>12455454.0</td>\n",
       "      <td>7.79%</td>\n",
       "    </tr>\n",
       "    <tr>\n",
       "      <th>6</th>\n",
       "      <td>7</td>\n",
       "      <td>Dramatization</td>\n",
       "      <td>1175</td>\n",
       "      <td>1.571519e+10</td>\n",
       "      <td>13374631.0</td>\n",
       "      <td>6.61%</td>\n",
       "    </tr>\n",
       "    <tr>\n",
       "      <th>7</th>\n",
       "      <td>8</td>\n",
       "      <td>Factual</td>\n",
       "      <td>2467</td>\n",
       "      <td>2.960327e+09</td>\n",
       "      <td>1199970.0</td>\n",
       "      <td>1.25%</td>\n",
       "    </tr>\n",
       "    <tr>\n",
       "      <th>8</th>\n",
       "      <td>9</td>\n",
       "      <td>Multiple Creative Types</td>\n",
       "      <td>42</td>\n",
       "      <td>1.175745e+08</td>\n",
       "      <td>2799393.0</td>\n",
       "      <td>0.05%</td>\n",
       "    </tr>\n",
       "  </tbody>\n",
       "</table>\n",
       "</div>"
      ],
      "text/plain": [
       "   RANK           CREATIVE TYPES  MOVIES   TOTAL GROSS  AVERAGE GROSS  \\\n",
       "0     1     Contemporary Fiction    7442  9.620373e+10     12927133.0   \n",
       "1     2             Kids Fiction     564  3.203554e+10     56800602.0   \n",
       "2     3          Science Fiction     724  2.992266e+10     41329642.0   \n",
       "3     4                  Fantasy     759  2.172406e+10     28621953.0   \n",
       "4     5               Super Hero     129  2.027316e+10    157156263.0   \n",
       "5     6       Historical Fiction    1487  1.852126e+10     12455454.0   \n",
       "6     7            Dramatization    1175  1.571519e+10     13374631.0   \n",
       "7     8                  Factual    2467  2.960327e+09      1199970.0   \n",
       "8     9  Multiple Creative Types      42  1.175745e+08      2799393.0   \n",
       "\n",
       "  MARKET SHARE  \n",
       "0       40.46%  \n",
       "1       13.47%  \n",
       "2       12.59%  \n",
       "3        9.14%  \n",
       "4        8.53%  \n",
       "5        7.79%  \n",
       "6        6.61%  \n",
       "7        1.25%  \n",
       "8        0.05%  "
      ]
     },
     "execution_count": 132,
     "metadata": {},
     "output_type": "execute_result"
    }
   ],
   "source": [
    "PopularCreativeTypes = pd.read_csv(r'C:/Users/Shrey/Desktop/archive/PopularCreativeTypes.csv')\n",
    "PopularCreativeTypes"
   ]
  },
  {
   "cell_type": "code",
   "execution_count": 133,
   "id": "77f5d96c",
   "metadata": {
    "scrolled": true
   },
   "outputs": [
    {
     "data": {
      "text/plain": [
       "RANK                int64\n",
       "CREATIVE TYPES     object\n",
       "MOVIES              int64\n",
       "TOTAL GROSS       float64\n",
       "AVERAGE GROSS     float64\n",
       "MARKET SHARE       object\n",
       "dtype: object"
      ]
     },
     "execution_count": 133,
     "metadata": {},
     "output_type": "execute_result"
    }
   ],
   "source": [
    "PopularCreativeTypes.dtypes"
   ]
  },
  {
   "cell_type": "code",
   "execution_count": 134,
   "id": "57687dfe",
   "metadata": {
    "scrolled": true
   },
   "outputs": [
    {
     "data": {
      "text/plain": [
       "RANK              0\n",
       "CREATIVE TYPES    0\n",
       "MOVIES            0\n",
       "TOTAL GROSS       0\n",
       "AVERAGE GROSS     0\n",
       "MARKET SHARE      0\n",
       "dtype: int64"
      ]
     },
     "execution_count": 134,
     "metadata": {},
     "output_type": "execute_result"
    }
   ],
   "source": [
    "PopularCreativeTypes.isna().sum()"
   ]
  },
  {
   "cell_type": "code",
   "execution_count": 135,
   "id": "8e6f82e4",
   "metadata": {
    "scrolled": true
   },
   "outputs": [
    {
     "data": {
      "text/plain": [
       "<AxesSubplot:xlabel='TOTAL GROSS', ylabel='CREATIVE TYPES'>"
      ]
     },
     "execution_count": 135,
     "metadata": {},
     "output_type": "execute_result"
    },
    {
     "data": {
      "image/png": "[encoded data removed]",
      "text/plain": [
       "<Figure size 432x288 with 1 Axes>"
      ]
     },
     "metadata": {
      "needs_background": "light"
     },
     "output_type": "display_data"
    }
   ],
   "source": [
    "sns.barplot(y='CREATIVE TYPES',x='TOTAL GROSS', data=PopularCreativeTypes)"
   ]
  },
  {
   "cell_type": "code",
   "execution_count": 136,
   "id": "4ed44032",
   "metadata": {
    "scrolled": true
   },
   "outputs": [
    {
     "data": {
      "text/html": [
       "<div>\n",
       "<style scoped>\n",
       "    .dataframe tbody tr th:only-of-type {\n",
       "        vertical-align: middle;\n",
       "    }\n",
       "\n",
       "    .dataframe tbody tr th {\n",
       "        vertical-align: top;\n",
       "    }\n",
       "\n",
       "    .dataframe thead th {\n",
       "        text-align: right;\n",
       "    }\n",
       "</style>\n",
       "<table border=\"1\" class=\"dataframe\">\n",
       "  <thead>\n",
       "    <tr style=\"text-align: right;\">\n",
       "      <th></th>\n",
       "      <th>RANK</th>\n",
       "      <th>DISTRIBUTORS</th>\n",
       "      <th>MOVIES</th>\n",
       "      <th>TOTAL GROSS</th>\n",
       "      <th>AVERAGE GROSS</th>\n",
       "      <th>MARKET SHARE</th>\n",
       "    </tr>\n",
       "  </thead>\n",
       "  <tbody>\n",
       "    <tr>\n",
       "      <th>0</th>\n",
       "      <td>1</td>\n",
       "      <td>Walt Disney</td>\n",
       "      <td>588</td>\n",
       "      <td>4.047242e+10</td>\n",
       "      <td>68830654.0</td>\n",
       "      <td>17.02%</td>\n",
       "    </tr>\n",
       "    <tr>\n",
       "      <th>1</th>\n",
       "      <td>2</td>\n",
       "      <td>Warner Bros.</td>\n",
       "      <td>824</td>\n",
       "      <td>3.626943e+10</td>\n",
       "      <td>44016293.0</td>\n",
       "      <td>15.25%</td>\n",
       "    </tr>\n",
       "    <tr>\n",
       "      <th>2</th>\n",
       "      <td>3</td>\n",
       "      <td>Sony Pictures</td>\n",
       "      <td>747</td>\n",
       "      <td>2.911300e+10</td>\n",
       "      <td>38973229.0</td>\n",
       "      <td>12.24%</td>\n",
       "    </tr>\n",
       "    <tr>\n",
       "      <th>3</th>\n",
       "      <td>4</td>\n",
       "      <td>Universal</td>\n",
       "      <td>535</td>\n",
       "      <td>2.808993e+10</td>\n",
       "      <td>52504547.0</td>\n",
       "      <td>11.81%</td>\n",
       "    </tr>\n",
       "    <tr>\n",
       "      <th>4</th>\n",
       "      <td>5</td>\n",
       "      <td>20th Century Fox</td>\n",
       "      <td>525</td>\n",
       "      <td>2.585784e+10</td>\n",
       "      <td>49253028.0</td>\n",
       "      <td>10.88%</td>\n",
       "    </tr>\n",
       "    <tr>\n",
       "      <th>5</th>\n",
       "      <td>6</td>\n",
       "      <td>Paramount Pictures</td>\n",
       "      <td>493</td>\n",
       "      <td>2.436143e+10</td>\n",
       "      <td>49414656.0</td>\n",
       "      <td>10.25%</td>\n",
       "    </tr>\n",
       "    <tr>\n",
       "      <th>6</th>\n",
       "      <td>7</td>\n",
       "      <td>Lionsgate</td>\n",
       "      <td>426</td>\n",
       "      <td>9.631838e+09</td>\n",
       "      <td>22609948.0</td>\n",
       "      <td>4.05%</td>\n",
       "    </tr>\n",
       "    <tr>\n",
       "      <th>7</th>\n",
       "      <td>8</td>\n",
       "      <td>New Line</td>\n",
       "      <td>209</td>\n",
       "      <td>6.195268e+09</td>\n",
       "      <td>29642431.0</td>\n",
       "      <td>2.61%</td>\n",
       "    </tr>\n",
       "    <tr>\n",
       "      <th>8</th>\n",
       "      <td>9</td>\n",
       "      <td>Dreamworks SKG</td>\n",
       "      <td>77</td>\n",
       "      <td>4.278649e+09</td>\n",
       "      <td>55566874.0</td>\n",
       "      <td>1.80%</td>\n",
       "    </tr>\n",
       "    <tr>\n",
       "      <th>9</th>\n",
       "      <td>10</td>\n",
       "      <td>Miramax</td>\n",
       "      <td>385</td>\n",
       "      <td>3.836019e+09</td>\n",
       "      <td>9963686.0</td>\n",
       "      <td>1.61%</td>\n",
       "    </tr>\n",
       "  </tbody>\n",
       "</table>\n",
       "</div>"
      ],
      "text/plain": [
       "   RANK        DISTRIBUTORS  MOVIES   TOTAL GROSS  AVERAGE GROSS MARKET SHARE\n",
       "0     1         Walt Disney     588  4.047242e+10     68830654.0       17.02%\n",
       "1     2        Warner Bros.     824  3.626943e+10     44016293.0       15.25%\n",
       "2     3       Sony Pictures     747  2.911300e+10     38973229.0       12.24%\n",
       "3     4           Universal     535  2.808993e+10     52504547.0       11.81%\n",
       "4     5    20th Century Fox     525  2.585784e+10     49253028.0       10.88%\n",
       "5     6  Paramount Pictures     493  2.436143e+10     49414656.0       10.25%\n",
       "6     7           Lionsgate     426  9.631838e+09     22609948.0        4.05%\n",
       "7     8            New Line     209  6.195268e+09     29642431.0        2.61%\n",
       "8     9      Dreamworks SKG      77  4.278649e+09     55566874.0        1.80%\n",
       "9    10             Miramax     385  3.836019e+09      9963686.0        1.61%"
      ]
     },
     "execution_count": 136,
     "metadata": {},
     "output_type": "execute_result"
    }
   ],
   "source": [
    "TopDistributors = pd.read_csv(r'C:/Users/Shrey/Desktop/archive/TopDistributors.csv')\n",
    "TopDistributors"
   ]
  },
  {
   "cell_type": "code",
   "execution_count": 137,
   "id": "01454147",
   "metadata": {
    "scrolled": true
   },
   "outputs": [
    {
     "data": {
      "text/plain": [
       "RANK               int64\n",
       "DISTRIBUTORS      object\n",
       "MOVIES             int64\n",
       "TOTAL GROSS      float64\n",
       "AVERAGE GROSS    float64\n",
       "MARKET SHARE      object\n",
       "dtype: object"
      ]
     },
     "execution_count": 137,
     "metadata": {},
     "output_type": "execute_result"
    }
   ],
   "source": [
    "TopDistributors.dtypes"
   ]
  },
  {
   "cell_type": "code",
   "execution_count": 138,
   "id": "6a73c31a",
   "metadata": {
    "scrolled": true
   },
   "outputs": [
    {
     "data": {
      "text/plain": [
       "RANK             0\n",
       "DISTRIBUTORS     0\n",
       "MOVIES           0\n",
       "TOTAL GROSS      0\n",
       "AVERAGE GROSS    0\n",
       "MARKET SHARE     0\n",
       "dtype: int64"
      ]
     },
     "execution_count": 138,
     "metadata": {},
     "output_type": "execute_result"
    }
   ],
   "source": [
    "TopDistributors.isna().sum()"
   ]
  },
  {
   "cell_type": "code",
   "execution_count": 139,
   "id": "dff0f522",
   "metadata": {
    "scrolled": true
   },
   "outputs": [
    {
     "data": {
      "text/plain": [
       "<AxesSubplot:xlabel='DISTRIBUTORS'>"
      ]
     },
     "execution_count": 139,
     "metadata": {},
     "output_type": "execute_result"
    },
    {
     "data": {
      "image/png": "[encoded data removed]",
      "text/plain": [
       "<Figure size 432x288 with 1 Axes>"
      ]
     },
     "metadata": {
      "needs_background": "light"
     },
     "output_type": "display_data"
    }
   ],
   "source": [
    "TopDistributors.plot(x ='DISTRIBUTORS', y='TOTAL GROSS', kind = 'bar')\n"
   ]
  },
  {
   "cell_type": "code",
   "execution_count": 140,
   "id": "435fa84b",
   "metadata": {
    "scrolled": true
   },
   "outputs": [
    {
     "data": {
      "text/html": [
       "<div>\n",
       "<style scoped>\n",
       "    .dataframe tbody tr th:only-of-type {\n",
       "        vertical-align: middle;\n",
       "    }\n",
       "\n",
       "    .dataframe tbody tr th {\n",
       "        vertical-align: top;\n",
       "    }\n",
       "\n",
       "    .dataframe thead th {\n",
       "        text-align: right;\n",
       "    }\n",
       "</style>\n",
       "<table border=\"1\" class=\"dataframe\">\n",
       "  <thead>\n",
       "    <tr style=\"text-align: right;\">\n",
       "      <th></th>\n",
       "      <th>RANK</th>\n",
       "      <th>GENRES</th>\n",
       "      <th>MOVIES</th>\n",
       "      <th>TOTAL GROSS</th>\n",
       "      <th>AVERAGE GROSS</th>\n",
       "      <th>MARKET SHARE</th>\n",
       "    </tr>\n",
       "  </thead>\n",
       "  <tbody>\n",
       "    <tr>\n",
       "      <th>0</th>\n",
       "      <td>1</td>\n",
       "      <td>Adventure</td>\n",
       "      <td>1102</td>\n",
       "      <td>6.452954e+10</td>\n",
       "      <td>58556748.0</td>\n",
       "      <td>27.14%</td>\n",
       "    </tr>\n",
       "    <tr>\n",
       "      <th>1</th>\n",
       "      <td>2</td>\n",
       "      <td>Action</td>\n",
       "      <td>1098</td>\n",
       "      <td>4.933997e+10</td>\n",
       "      <td>44936224.0</td>\n",
       "      <td>20.75%</td>\n",
       "    </tr>\n",
       "    <tr>\n",
       "      <th>2</th>\n",
       "      <td>3</td>\n",
       "      <td>Drama</td>\n",
       "      <td>5479</td>\n",
       "      <td>3.558618e+10</td>\n",
       "      <td>6495013.0</td>\n",
       "      <td>14.97%</td>\n",
       "    </tr>\n",
       "    <tr>\n",
       "      <th>3</th>\n",
       "      <td>4</td>\n",
       "      <td>Comedy</td>\n",
       "      <td>2418</td>\n",
       "      <td>3.368799e+10</td>\n",
       "      <td>13932172.0</td>\n",
       "      <td>14.17%</td>\n",
       "    </tr>\n",
       "    <tr>\n",
       "      <th>4</th>\n",
       "      <td>5</td>\n",
       "      <td>Thriller/Suspense</td>\n",
       "      <td>1186</td>\n",
       "      <td>1.981020e+10</td>\n",
       "      <td>16703374.0</td>\n",
       "      <td>8.33%</td>\n",
       "    </tr>\n",
       "    <tr>\n",
       "      <th>5</th>\n",
       "      <td>6</td>\n",
       "      <td>Horror</td>\n",
       "      <td>716</td>\n",
       "      <td>1.343038e+10</td>\n",
       "      <td>18757512.0</td>\n",
       "      <td>5.65%</td>\n",
       "    </tr>\n",
       "    <tr>\n",
       "      <th>6</th>\n",
       "      <td>7</td>\n",
       "      <td>Romantic Comedy</td>\n",
       "      <td>630</td>\n",
       "      <td>1.048012e+10</td>\n",
       "      <td>16635118.0</td>\n",
       "      <td>4.41%</td>\n",
       "    </tr>\n",
       "    <tr>\n",
       "      <th>7</th>\n",
       "      <td>8</td>\n",
       "      <td>Musical</td>\n",
       "      <td>201</td>\n",
       "      <td>4.293988e+09</td>\n",
       "      <td>21363126.0</td>\n",
       "      <td>1.81%</td>\n",
       "    </tr>\n",
       "    <tr>\n",
       "      <th>8</th>\n",
       "      <td>9</td>\n",
       "      <td>Documentary</td>\n",
       "      <td>2415</td>\n",
       "      <td>2.519513e+09</td>\n",
       "      <td>1043277.0</td>\n",
       "      <td>1.06%</td>\n",
       "    </tr>\n",
       "    <tr>\n",
       "      <th>9</th>\n",
       "      <td>10</td>\n",
       "      <td>Black Comedy</td>\n",
       "      <td>213</td>\n",
       "      <td>2.185433e+09</td>\n",
       "      <td>10260250.0</td>\n",
       "      <td>0.92%</td>\n",
       "    </tr>\n",
       "  </tbody>\n",
       "</table>\n",
       "</div>"
      ],
      "text/plain": [
       "   RANK             GENRES  MOVIES   TOTAL GROSS  AVERAGE GROSS MARKET SHARE\n",
       "0     1          Adventure    1102  6.452954e+10     58556748.0       27.14%\n",
       "1     2             Action    1098  4.933997e+10     44936224.0       20.75%\n",
       "2     3              Drama    5479  3.558618e+10      6495013.0       14.97%\n",
       "3     4             Comedy    2418  3.368799e+10     13932172.0       14.17%\n",
       "4     5  Thriller/Suspense    1186  1.981020e+10     16703374.0        8.33%\n",
       "5     6             Horror     716  1.343038e+10     18757512.0        5.65%\n",
       "6     7    Romantic Comedy     630  1.048012e+10     16635118.0        4.41%\n",
       "7     8            Musical     201  4.293988e+09     21363126.0        1.81%\n",
       "8     9        Documentary    2415  2.519513e+09      1043277.0        1.06%\n",
       "9    10       Black Comedy     213  2.185433e+09     10260250.0        0.92%"
      ]
     },
     "execution_count": 140,
     "metadata": {},
     "output_type": "execute_result"
    }
   ],
   "source": [
    "TopGenres = pd.read_csv(r'C:/Users/Shrey/Desktop/archive/TopGenres.csv')\n",
    "TopGenres"
   ]
  },
  {
   "cell_type": "code",
   "execution_count": 141,
   "id": "94110a9b",
   "metadata": {
    "scrolled": true
   },
   "outputs": [
    {
     "data": {
      "text/plain": [
       "RANK               int64\n",
       "GENRES            object\n",
       "MOVIES             int64\n",
       "TOTAL GROSS      float64\n",
       "AVERAGE GROSS    float64\n",
       "MARKET SHARE      object\n",
       "dtype: object"
      ]
     },
     "execution_count": 141,
     "metadata": {},
     "output_type": "execute_result"
    }
   ],
   "source": [
    "TopGenres.dtypes"
   ]
  },
  {
   "cell_type": "code",
   "execution_count": 142,
   "id": "c842fe27",
   "metadata": {
    "scrolled": true
   },
   "outputs": [
    {
     "data": {
      "text/plain": [
       "RANK             0\n",
       "GENRES           0\n",
       "MOVIES           0\n",
       "TOTAL GROSS      0\n",
       "AVERAGE GROSS    0\n",
       "MARKET SHARE     0\n",
       "dtype: int64"
      ]
     },
     "execution_count": 142,
     "metadata": {},
     "output_type": "execute_result"
    }
   ],
   "source": [
    "TopGenres.isna().sum()"
   ]
  },
  {
   "cell_type": "code",
   "execution_count": null,
   "id": "bc9c15fc",
   "metadata": {
    "scrolled": true
   },
   "outputs": [],
   "source": []
  },
  {
   "cell_type": "code",
   "execution_count": null,
   "id": "b7fd5b48",
   "metadata": {
    "scrolled": true
   },
   "outputs": [],
   "source": []
  },
  {
   "cell_type": "code",
   "execution_count": null,
   "id": "f95d360f",
   "metadata": {
    "scrolled": true
   },
   "outputs": [],
   "source": []
  },
  {
   "cell_type": "code",
   "execution_count": 143,
   "id": "1a8764b4",
   "metadata": {
    "scrolled": true
   },
   "outputs": [
    {
     "data": {
      "text/html": [
       "<div>\n",
       "<style scoped>\n",
       "    .dataframe tbody tr th:only-of-type {\n",
       "        vertical-align: middle;\n",
       "    }\n",
       "\n",
       "    .dataframe tbody tr th {\n",
       "        vertical-align: top;\n",
       "    }\n",
       "\n",
       "    .dataframe thead th {\n",
       "        text-align: right;\n",
       "    }\n",
       "</style>\n",
       "<table border=\"1\" class=\"dataframe\">\n",
       "  <thead>\n",
       "    <tr style=\"text-align: right;\">\n",
       "      <th></th>\n",
       "      <th>RANK</th>\n",
       "      <th>MPAA RATINGS</th>\n",
       "      <th>MOVIES</th>\n",
       "      <th>TOTAL GROSS</th>\n",
       "      <th>AVERAGE GROSS</th>\n",
       "      <th>MARKET SHARE</th>\n",
       "    </tr>\n",
       "  </thead>\n",
       "  <tbody>\n",
       "    <tr>\n",
       "      <th>0</th>\n",
       "      <td>1</td>\n",
       "      <td>PG-13</td>\n",
       "      <td>3243</td>\n",
       "      <td>1.135248e+11</td>\n",
       "      <td>35006102.0</td>\n",
       "      <td>47.75%</td>\n",
       "    </tr>\n",
       "    <tr>\n",
       "      <th>1</th>\n",
       "      <td>2</td>\n",
       "      <td>R</td>\n",
       "      <td>5480</td>\n",
       "      <td>6.349716e+10</td>\n",
       "      <td>11587074.0</td>\n",
       "      <td>26.71%</td>\n",
       "    </tr>\n",
       "    <tr>\n",
       "      <th>2</th>\n",
       "      <td>3</td>\n",
       "      <td>PG</td>\n",
       "      <td>1535</td>\n",
       "      <td>4.912432e+10</td>\n",
       "      <td>32002813.0</td>\n",
       "      <td>20.66%</td>\n",
       "    </tr>\n",
       "    <tr>\n",
       "      <th>3</th>\n",
       "      <td>4</td>\n",
       "      <td>G</td>\n",
       "      <td>395</td>\n",
       "      <td>9.572240e+09</td>\n",
       "      <td>24233520.0</td>\n",
       "      <td>4.03%</td>\n",
       "    </tr>\n",
       "    <tr>\n",
       "      <th>4</th>\n",
       "      <td>5</td>\n",
       "      <td>Not Rated</td>\n",
       "      <td>5820</td>\n",
       "      <td>1.918358e+09</td>\n",
       "      <td>329615.0</td>\n",
       "      <td>0.81%</td>\n",
       "    </tr>\n",
       "    <tr>\n",
       "      <th>5</th>\n",
       "      <td>6</td>\n",
       "      <td>NC-17</td>\n",
       "      <td>24</td>\n",
       "      <td>4.485014e+07</td>\n",
       "      <td>1868756.0</td>\n",
       "      <td>0.02%</td>\n",
       "    </tr>\n",
       "    <tr>\n",
       "      <th>6</th>\n",
       "      <td>7</td>\n",
       "      <td>Open</td>\n",
       "      <td>5</td>\n",
       "      <td>5.489687e+06</td>\n",
       "      <td>1097937.0</td>\n",
       "      <td>0.00%</td>\n",
       "    </tr>\n",
       "    <tr>\n",
       "      <th>7</th>\n",
       "      <td>8</td>\n",
       "      <td>GP</td>\n",
       "      <td>7</td>\n",
       "      <td>5.526180e+05</td>\n",
       "      <td>78945.0</td>\n",
       "      <td>0.00%</td>\n",
       "    </tr>\n",
       "  </tbody>\n",
       "</table>\n",
       "</div>"
      ],
      "text/plain": [
       "   RANK MPAA RATINGS  MOVIES   TOTAL GROSS  AVERAGE GROSS MARKET SHARE\n",
       "0     1        PG-13    3243  1.135248e+11     35006102.0       47.75%\n",
       "1     2            R    5480  6.349716e+10     11587074.0       26.71%\n",
       "2     3           PG    1535  4.912432e+10     32002813.0       20.66%\n",
       "3     4            G     395  9.572240e+09     24233520.0        4.03%\n",
       "4     5    Not Rated    5820  1.918358e+09       329615.0        0.81%\n",
       "5     6        NC-17      24  4.485014e+07      1868756.0        0.02%\n",
       "6     7         Open       5  5.489687e+06      1097937.0        0.00%\n",
       "7     8           GP       7  5.526180e+05        78945.0        0.00%"
      ]
     },
     "execution_count": 143,
     "metadata": {},
     "output_type": "execute_result"
    }
   ],
   "source": [
    "TopGrossingRatings = pd.read_csv(r'C:/Users/Shrey/Desktop/archive/TopGrossingRatings.csv')\n",
    "TopGrossingRatings"
   ]
  },
  {
   "cell_type": "code",
   "execution_count": 144,
   "id": "a2bd1991",
   "metadata": {
    "scrolled": true
   },
   "outputs": [
    {
     "data": {
      "text/plain": [
       "RANK               int64\n",
       "MPAA RATINGS      object\n",
       "MOVIES             int64\n",
       "TOTAL GROSS      float64\n",
       "AVERAGE GROSS    float64\n",
       "MARKET SHARE      object\n",
       "dtype: object"
      ]
     },
     "execution_count": 144,
     "metadata": {},
     "output_type": "execute_result"
    }
   ],
   "source": [
    "TopGrossingRatings.dtypes"
   ]
  },
  {
   "cell_type": "code",
   "execution_count": 145,
   "id": "31d14dc1",
   "metadata": {
    "scrolled": true
   },
   "outputs": [
    {
     "data": {
      "text/plain": [
       "RANK             0\n",
       "MPAA RATINGS     0\n",
       "MOVIES           0\n",
       "TOTAL GROSS      0\n",
       "AVERAGE GROSS    0\n",
       "MARKET SHARE     0\n",
       "dtype: int64"
      ]
     },
     "execution_count": 145,
     "metadata": {},
     "output_type": "execute_result"
    }
   ],
   "source": [
    "TopGrossingRatings.isna().sum()"
   ]
  },
  {
   "cell_type": "code",
   "execution_count": null,
   "id": "fbe706f2",
   "metadata": {
    "scrolled": true
   },
   "outputs": [],
   "source": []
  },
  {
   "cell_type": "code",
   "execution_count": null,
   "id": "490cbe0c",
   "metadata": {
    "scrolled": true
   },
   "outputs": [],
   "source": []
  },
  {
   "cell_type": "code",
   "execution_count": null,
   "id": "8264fa1e",
   "metadata": {
    "scrolled": true
   },
   "outputs": [],
   "source": []
  },
  {
   "cell_type": "code",
   "execution_count": 146,
   "id": "89b6dafc",
   "metadata": {
    "scrolled": true
   },
   "outputs": [
    {
     "data": {
      "text/html": [
       "<div>\n",
       "<style scoped>\n",
       "    .dataframe tbody tr th:only-of-type {\n",
       "        vertical-align: middle;\n",
       "    }\n",
       "\n",
       "    .dataframe tbody tr th {\n",
       "        vertical-align: top;\n",
       "    }\n",
       "\n",
       "    .dataframe thead th {\n",
       "        text-align: right;\n",
       "    }\n",
       "</style>\n",
       "<table border=\"1\" class=\"dataframe\">\n",
       "  <thead>\n",
       "    <tr style=\"text-align: right;\">\n",
       "      <th></th>\n",
       "      <th>RANK</th>\n",
       "      <th>SOURCES</th>\n",
       "      <th>MOVIES</th>\n",
       "      <th>TOTAL GROSS</th>\n",
       "      <th>AVERAGE GROSS</th>\n",
       "      <th>MARKET SHARE</th>\n",
       "    </tr>\n",
       "  </thead>\n",
       "  <tbody>\n",
       "    <tr>\n",
       "      <th>0</th>\n",
       "      <td>1</td>\n",
       "      <td>Original Screenplay</td>\n",
       "      <td>7946</td>\n",
       "      <td>1.063752e+11</td>\n",
       "      <td>13387264.0</td>\n",
       "      <td>44.74%</td>\n",
       "    </tr>\n",
       "    <tr>\n",
       "      <th>1</th>\n",
       "      <td>2</td>\n",
       "      <td>Based on Fiction Book/Short Story</td>\n",
       "      <td>2150</td>\n",
       "      <td>4.700561e+10</td>\n",
       "      <td>21863076.0</td>\n",
       "      <td>19.77%</td>\n",
       "    </tr>\n",
       "    <tr>\n",
       "      <th>2</th>\n",
       "      <td>3</td>\n",
       "      <td>Based on Comic/Graphic Novel</td>\n",
       "      <td>249</td>\n",
       "      <td>2.336999e+10</td>\n",
       "      <td>93855378.0</td>\n",
       "      <td>9.83%</td>\n",
       "    </tr>\n",
       "    <tr>\n",
       "      <th>3</th>\n",
       "      <td>4</td>\n",
       "      <td>Remake</td>\n",
       "      <td>328</td>\n",
       "      <td>1.283266e+10</td>\n",
       "      <td>39123963.0</td>\n",
       "      <td>5.40%</td>\n",
       "    </tr>\n",
       "    <tr>\n",
       "      <th>4</th>\n",
       "      <td>5</td>\n",
       "      <td>Based on Real Life Events</td>\n",
       "      <td>3225</td>\n",
       "      <td>1.139836e+10</td>\n",
       "      <td>3534374.0</td>\n",
       "      <td>4.79%</td>\n",
       "    </tr>\n",
       "    <tr>\n",
       "      <th>5</th>\n",
       "      <td>6</td>\n",
       "      <td>Based on TV</td>\n",
       "      <td>231</td>\n",
       "      <td>1.130501e+10</td>\n",
       "      <td>48939421.0</td>\n",
       "      <td>4.75%</td>\n",
       "    </tr>\n",
       "    <tr>\n",
       "      <th>6</th>\n",
       "      <td>7</td>\n",
       "      <td>Based on Factual Book/Article</td>\n",
       "      <td>295</td>\n",
       "      <td>7.443682e+09</td>\n",
       "      <td>25232820.0</td>\n",
       "      <td>3.13%</td>\n",
       "    </tr>\n",
       "    <tr>\n",
       "      <th>7</th>\n",
       "      <td>8</td>\n",
       "      <td>Spin-Off</td>\n",
       "      <td>41</td>\n",
       "      <td>3.833128e+09</td>\n",
       "      <td>93490935.0</td>\n",
       "      <td>1.61%</td>\n",
       "    </tr>\n",
       "    <tr>\n",
       "      <th>8</th>\n",
       "      <td>9</td>\n",
       "      <td>Based on Folk Tale/Legend/Fairytale</td>\n",
       "      <td>78</td>\n",
       "      <td>3.406118e+09</td>\n",
       "      <td>43668186.0</td>\n",
       "      <td>1.43%</td>\n",
       "    </tr>\n",
       "    <tr>\n",
       "      <th>9</th>\n",
       "      <td>10</td>\n",
       "      <td>Based on Play</td>\n",
       "      <td>271</td>\n",
       "      <td>2.111191e+09</td>\n",
       "      <td>7790372.0</td>\n",
       "      <td>0.89%</td>\n",
       "    </tr>\n",
       "  </tbody>\n",
       "</table>\n",
       "</div>"
      ],
      "text/plain": [
       "   RANK                              SOURCES  MOVIES   TOTAL GROSS  \\\n",
       "0     1                  Original Screenplay    7946  1.063752e+11   \n",
       "1     2    Based on Fiction Book/Short Story    2150  4.700561e+10   \n",
       "2     3         Based on Comic/Graphic Novel     249  2.336999e+10   \n",
       "3     4                               Remake     328  1.283266e+10   \n",
       "4     5            Based on Real Life Events    3225  1.139836e+10   \n",
       "5     6                          Based on TV     231  1.130501e+10   \n",
       "6     7        Based on Factual Book/Article     295  7.443682e+09   \n",
       "7     8                             Spin-Off      41  3.833128e+09   \n",
       "8     9  Based on Folk Tale/Legend/Fairytale      78  3.406118e+09   \n",
       "9    10                        Based on Play     271  2.111191e+09   \n",
       "\n",
       "   AVERAGE GROSS MARKET SHARE  \n",
       "0     13387264.0       44.74%  \n",
       "1     21863076.0       19.77%  \n",
       "2     93855378.0        9.83%  \n",
       "3     39123963.0        5.40%  \n",
       "4      3534374.0        4.79%  \n",
       "5     48939421.0        4.75%  \n",
       "6     25232820.0        3.13%  \n",
       "7     93490935.0        1.61%  \n",
       "8     43668186.0        1.43%  \n",
       "9      7790372.0        0.89%  "
      ]
     },
     "execution_count": 146,
     "metadata": {},
     "output_type": "execute_result"
    }
   ],
   "source": [
    "TopGrossingSources = pd.read_csv(r'C:/Users/Shrey/Desktop/archive/TopGrossingSources.csv')\n",
    "TopGrossingSources"
   ]
  },
  {
   "cell_type": "code",
   "execution_count": 147,
   "id": "06baa22b",
   "metadata": {
    "scrolled": true
   },
   "outputs": [
    {
     "data": {
      "text/plain": [
       "RANK               int64\n",
       "SOURCES           object\n",
       "MOVIES             int64\n",
       "TOTAL GROSS      float64\n",
       "AVERAGE GROSS    float64\n",
       "MARKET SHARE      object\n",
       "dtype: object"
      ]
     },
     "execution_count": 147,
     "metadata": {},
     "output_type": "execute_result"
    }
   ],
   "source": [
    "TopGrossingSources.dtypes"
   ]
  },
  {
   "cell_type": "code",
   "execution_count": 148,
   "id": "cf395804",
   "metadata": {
    "scrolled": true
   },
   "outputs": [
    {
     "data": {
      "text/plain": [
       "RANK             0\n",
       "SOURCES          0\n",
       "MOVIES           0\n",
       "TOTAL GROSS      0\n",
       "AVERAGE GROSS    0\n",
       "MARKET SHARE     0\n",
       "dtype: int64"
      ]
     },
     "execution_count": 148,
     "metadata": {},
     "output_type": "execute_result"
    }
   ],
   "source": [
    "TopGrossingSources.isna().sum()"
   ]
  },
  {
   "cell_type": "code",
   "execution_count": null,
   "id": "55b5a357",
   "metadata": {
    "scrolled": true
   },
   "outputs": [],
   "source": []
  },
  {
   "cell_type": "code",
   "execution_count": null,
   "id": "4384de8e",
   "metadata": {
    "scrolled": true
   },
   "outputs": [],
   "source": []
  },
  {
   "cell_type": "code",
   "execution_count": null,
   "id": "678a7b41",
   "metadata": {
    "scrolled": true
   },
   "outputs": [],
   "source": []
  },
  {
   "cell_type": "code",
   "execution_count": 149,
   "id": "ca42db11",
   "metadata": {
    "scrolled": true
   },
   "outputs": [
    {
     "data": {
      "text/html": [
       "<div>\n",
       "<style scoped>\n",
       "    .dataframe tbody tr th:only-of-type {\n",
       "        vertical-align: middle;\n",
       "    }\n",
       "\n",
       "    .dataframe tbody tr th {\n",
       "        vertical-align: top;\n",
       "    }\n",
       "\n",
       "    .dataframe thead th {\n",
       "        text-align: right;\n",
       "    }\n",
       "</style>\n",
       "<table border=\"1\" class=\"dataframe\">\n",
       "  <thead>\n",
       "    <tr style=\"text-align: right;\">\n",
       "      <th></th>\n",
       "      <th>RANK</th>\n",
       "      <th>PRODUCTION METHODS</th>\n",
       "      <th>MOVIES</th>\n",
       "      <th>TOTAL GROSS</th>\n",
       "      <th>AVERAGE GROSS</th>\n",
       "      <th>MARKET SHARE</th>\n",
       "    </tr>\n",
       "  </thead>\n",
       "  <tbody>\n",
       "    <tr>\n",
       "      <th>0</th>\n",
       "      <td>1</td>\n",
       "      <td>Live Action</td>\n",
       "      <td>14613</td>\n",
       "      <td>1.796372e+11</td>\n",
       "      <td>12292972.0</td>\n",
       "      <td>75.56%</td>\n",
       "    </tr>\n",
       "    <tr>\n",
       "      <th>1</th>\n",
       "      <td>2</td>\n",
       "      <td>Animation/Live Action</td>\n",
       "      <td>264</td>\n",
       "      <td>3.034662e+10</td>\n",
       "      <td>114949327.0</td>\n",
       "      <td>12.76%</td>\n",
       "    </tr>\n",
       "    <tr>\n",
       "      <th>2</th>\n",
       "      <td>3</td>\n",
       "      <td>Digital Animation</td>\n",
       "      <td>365</td>\n",
       "      <td>2.392018e+10</td>\n",
       "      <td>65534741.0</td>\n",
       "      <td>10.06%</td>\n",
       "    </tr>\n",
       "    <tr>\n",
       "      <th>3</th>\n",
       "      <td>4</td>\n",
       "      <td>Hand Animation</td>\n",
       "      <td>164</td>\n",
       "      <td>2.960497e+09</td>\n",
       "      <td>18051814.0</td>\n",
       "      <td>1.25%</td>\n",
       "    </tr>\n",
       "    <tr>\n",
       "      <th>4</th>\n",
       "      <td>5</td>\n",
       "      <td>Stop-Motion Animation</td>\n",
       "      <td>37</td>\n",
       "      <td>6.764901e+08</td>\n",
       "      <td>18283517.0</td>\n",
       "      <td>0.28%</td>\n",
       "    </tr>\n",
       "    <tr>\n",
       "      <th>5</th>\n",
       "      <td>6</td>\n",
       "      <td>Multiple Production Methods</td>\n",
       "      <td>26</td>\n",
       "      <td>4.372830e+07</td>\n",
       "      <td>1681858.0</td>\n",
       "      <td>0.02%</td>\n",
       "    </tr>\n",
       "    <tr>\n",
       "      <th>6</th>\n",
       "      <td>7</td>\n",
       "      <td>Rotoscoping</td>\n",
       "      <td>4</td>\n",
       "      <td>8.468385e+06</td>\n",
       "      <td>2117096.0</td>\n",
       "      <td>0.00%</td>\n",
       "    </tr>\n",
       "  </tbody>\n",
       "</table>\n",
       "</div>"
      ],
      "text/plain": [
       "   RANK           PRODUCTION METHODS  MOVIES   TOTAL GROSS  AVERAGE GROSS  \\\n",
       "0     1                  Live Action   14613  1.796372e+11     12292972.0   \n",
       "1     2        Animation/Live Action     264  3.034662e+10    114949327.0   \n",
       "2     3            Digital Animation     365  2.392018e+10     65534741.0   \n",
       "3     4               Hand Animation     164  2.960497e+09     18051814.0   \n",
       "4     5        Stop-Motion Animation      37  6.764901e+08     18283517.0   \n",
       "5     6  Multiple Production Methods      26  4.372830e+07      1681858.0   \n",
       "6     7                  Rotoscoping       4  8.468385e+06      2117096.0   \n",
       "\n",
       "  MARKET SHARE  \n",
       "0       75.56%  \n",
       "1       12.76%  \n",
       "2       10.06%  \n",
       "3        1.25%  \n",
       "4        0.28%  \n",
       "5        0.02%  \n",
       "6        0.00%  "
      ]
     },
     "execution_count": 149,
     "metadata": {},
     "output_type": "execute_result"
    }
   ],
   "source": [
    "TopProductionMethods = pd.read_csv(r'C:/Users/Shrey/Desktop/archive/TopProductionMethods.csv')\n",
    "TopProductionMethods"
   ]
  },
  {
   "cell_type": "code",
   "execution_count": 150,
   "id": "28dba783",
   "metadata": {
    "scrolled": true
   },
   "outputs": [
    {
     "data": {
      "text/plain": [
       "RANK                    int64\n",
       "PRODUCTION METHODS     object\n",
       "MOVIES                  int64\n",
       "TOTAL GROSS           float64\n",
       "AVERAGE GROSS         float64\n",
       "MARKET SHARE           object\n",
       "dtype: object"
      ]
     },
     "execution_count": 150,
     "metadata": {},
     "output_type": "execute_result"
    }
   ],
   "source": [
    "TopProductionMethods.dtypes"
   ]
  },
  {
   "cell_type": "code",
   "execution_count": 151,
   "id": "ac88636a",
   "metadata": {
    "scrolled": true
   },
   "outputs": [
    {
     "data": {
      "text/plain": [
       "RANK                  0\n",
       "PRODUCTION METHODS    0\n",
       "MOVIES                0\n",
       "TOTAL GROSS           0\n",
       "AVERAGE GROSS         0\n",
       "MARKET SHARE          0\n",
       "dtype: int64"
      ]
     },
     "execution_count": 151,
     "metadata": {},
     "output_type": "execute_result"
    }
   ],
   "source": [
    "TopProductionMethods.isna().sum()"
   ]
  },
  {
   "cell_type": "code",
   "execution_count": null,
   "id": "33dbfa3f",
   "metadata": {
    "scrolled": true
   },
   "outputs": [],
   "source": []
  },
  {
   "cell_type": "code",
   "execution_count": null,
   "id": "d8ff4caf",
   "metadata": {
    "scrolled": true
   },
   "outputs": [],
   "source": []
  },
  {
   "cell_type": "code",
   "execution_count": null,
   "id": "d80bb20e",
   "metadata": {
    "scrolled": true
   },
   "outputs": [],
   "source": []
  },
  {
   "cell_type": "code",
   "execution_count": 152,
   "id": "285f29f4",
   "metadata": {
    "scrolled": true
   },
   "outputs": [
    {
     "data": {
      "text/html": [
       "<div>\n",
       "<style scoped>\n",
       "    .dataframe tbody tr th:only-of-type {\n",
       "        vertical-align: middle;\n",
       "    }\n",
       "\n",
       "    .dataframe tbody tr th {\n",
       "        vertical-align: top;\n",
       "    }\n",
       "\n",
       "    .dataframe thead th {\n",
       "        text-align: right;\n",
       "    }\n",
       "</style>\n",
       "<table border=\"1\" class=\"dataframe\">\n",
       "  <thead>\n",
       "    <tr style=\"text-align: right;\">\n",
       "      <th></th>\n",
       "      <th>YEAR</th>\n",
       "      <th>WARNER BROS</th>\n",
       "      <th>WALT DISNEY</th>\n",
       "      <th>20TH CENTURY FOX</th>\n",
       "      <th>PARAMOUNT PICTURES</th>\n",
       "      <th>SONY PICTURES</th>\n",
       "      <th>UNIVERSAL</th>\n",
       "      <th>TOTAL MAJOR 6</th>\n",
       "      <th>TOTAL OTHER STUDIOS</th>\n",
       "      <th>Unnamed: 9</th>\n",
       "    </tr>\n",
       "  </thead>\n",
       "  <tbody>\n",
       "    <tr>\n",
       "      <th>0</th>\n",
       "      <td>2021</td>\n",
       "      <td>17</td>\n",
       "      <td>7</td>\n",
       "      <td>0</td>\n",
       "      <td>4</td>\n",
       "      <td>16</td>\n",
       "      <td>17</td>\n",
       "      <td>61</td>\n",
       "      <td>38</td>\n",
       "      <td>NaN</td>\n",
       "    </tr>\n",
       "    <tr>\n",
       "      <th>1</th>\n",
       "      <td>2020</td>\n",
       "      <td>5</td>\n",
       "      <td>3</td>\n",
       "      <td>1</td>\n",
       "      <td>3</td>\n",
       "      <td>9</td>\n",
       "      <td>13</td>\n",
       "      <td>34</td>\n",
       "      <td>23</td>\n",
       "      <td>NaN</td>\n",
       "    </tr>\n",
       "    <tr>\n",
       "      <th>2</th>\n",
       "      <td>2019</td>\n",
       "      <td>18</td>\n",
       "      <td>10</td>\n",
       "      <td>11</td>\n",
       "      <td>9</td>\n",
       "      <td>18</td>\n",
       "      <td>21</td>\n",
       "      <td>87</td>\n",
       "      <td>44</td>\n",
       "      <td>NaN</td>\n",
       "    </tr>\n",
       "    <tr>\n",
       "      <th>3</th>\n",
       "      <td>2018</td>\n",
       "      <td>19</td>\n",
       "      <td>10</td>\n",
       "      <td>11</td>\n",
       "      <td>10</td>\n",
       "      <td>16</td>\n",
       "      <td>20</td>\n",
       "      <td>86</td>\n",
       "      <td>58</td>\n",
       "      <td>NaN</td>\n",
       "    </tr>\n",
       "    <tr>\n",
       "      <th>4</th>\n",
       "      <td>2017</td>\n",
       "      <td>18</td>\n",
       "      <td>8</td>\n",
       "      <td>14</td>\n",
       "      <td>10</td>\n",
       "      <td>16</td>\n",
       "      <td>15</td>\n",
       "      <td>81</td>\n",
       "      <td>50</td>\n",
       "      <td>NaN</td>\n",
       "    </tr>\n",
       "    <tr>\n",
       "      <th>5</th>\n",
       "      <td>2016</td>\n",
       "      <td>17</td>\n",
       "      <td>12</td>\n",
       "      <td>16</td>\n",
       "      <td>12</td>\n",
       "      <td>16</td>\n",
       "      <td>22</td>\n",
       "      <td>95</td>\n",
       "      <td>46</td>\n",
       "      <td>NaN</td>\n",
       "    </tr>\n",
       "    <tr>\n",
       "      <th>6</th>\n",
       "      <td>2015</td>\n",
       "      <td>22</td>\n",
       "      <td>11</td>\n",
       "      <td>18</td>\n",
       "      <td>9</td>\n",
       "      <td>13</td>\n",
       "      <td>20</td>\n",
       "      <td>93</td>\n",
       "      <td>33</td>\n",
       "      <td>NaN</td>\n",
       "    </tr>\n",
       "    <tr>\n",
       "      <th>7</th>\n",
       "      <td>2014</td>\n",
       "      <td>17</td>\n",
       "      <td>12</td>\n",
       "      <td>17</td>\n",
       "      <td>10</td>\n",
       "      <td>17</td>\n",
       "      <td>15</td>\n",
       "      <td>88</td>\n",
       "      <td>37</td>\n",
       "      <td>NaN</td>\n",
       "    </tr>\n",
       "    <tr>\n",
       "      <th>8</th>\n",
       "      <td>2013</td>\n",
       "      <td>17</td>\n",
       "      <td>8</td>\n",
       "      <td>15</td>\n",
       "      <td>8</td>\n",
       "      <td>14</td>\n",
       "      <td>16</td>\n",
       "      <td>78</td>\n",
       "      <td>42</td>\n",
       "      <td>NaN</td>\n",
       "    </tr>\n",
       "    <tr>\n",
       "      <th>9</th>\n",
       "      <td>2012</td>\n",
       "      <td>16</td>\n",
       "      <td>11</td>\n",
       "      <td>15</td>\n",
       "      <td>13</td>\n",
       "      <td>18</td>\n",
       "      <td>17</td>\n",
       "      <td>90</td>\n",
       "      <td>42</td>\n",
       "      <td>NaN</td>\n",
       "    </tr>\n",
       "    <tr>\n",
       "      <th>10</th>\n",
       "      <td>2011</td>\n",
       "      <td>20</td>\n",
       "      <td>13</td>\n",
       "      <td>15</td>\n",
       "      <td>13</td>\n",
       "      <td>21</td>\n",
       "      <td>19</td>\n",
       "      <td>101</td>\n",
       "      <td>35</td>\n",
       "      <td>NaN</td>\n",
       "    </tr>\n",
       "    <tr>\n",
       "      <th>11</th>\n",
       "      <td>2010</td>\n",
       "      <td>20</td>\n",
       "      <td>12</td>\n",
       "      <td>18</td>\n",
       "      <td>12</td>\n",
       "      <td>17</td>\n",
       "      <td>17</td>\n",
       "      <td>96</td>\n",
       "      <td>30</td>\n",
       "      <td>NaN</td>\n",
       "    </tr>\n",
       "    <tr>\n",
       "      <th>12</th>\n",
       "      <td>2009</td>\n",
       "      <td>25</td>\n",
       "      <td>14</td>\n",
       "      <td>20</td>\n",
       "      <td>10</td>\n",
       "      <td>21</td>\n",
       "      <td>21</td>\n",
       "      <td>111</td>\n",
       "      <td>30</td>\n",
       "      <td>NaN</td>\n",
       "    </tr>\n",
       "    <tr>\n",
       "      <th>13</th>\n",
       "      <td>2008</td>\n",
       "      <td>19</td>\n",
       "      <td>11</td>\n",
       "      <td>22</td>\n",
       "      <td>14</td>\n",
       "      <td>19</td>\n",
       "      <td>19</td>\n",
       "      <td>104</td>\n",
       "      <td>48</td>\n",
       "      <td>NaN</td>\n",
       "    </tr>\n",
       "    <tr>\n",
       "      <th>14</th>\n",
       "      <td>2007</td>\n",
       "      <td>30</td>\n",
       "      <td>13</td>\n",
       "      <td>17</td>\n",
       "      <td>16</td>\n",
       "      <td>22</td>\n",
       "      <td>20</td>\n",
       "      <td>118</td>\n",
       "      <td>50</td>\n",
       "      <td>NaN</td>\n",
       "    </tr>\n",
       "    <tr>\n",
       "      <th>15</th>\n",
       "      <td>2006</td>\n",
       "      <td>26</td>\n",
       "      <td>17</td>\n",
       "      <td>25</td>\n",
       "      <td>13</td>\n",
       "      <td>26</td>\n",
       "      <td>21</td>\n",
       "      <td>128</td>\n",
       "      <td>31</td>\n",
       "      <td>NaN</td>\n",
       "    </tr>\n",
       "    <tr>\n",
       "      <th>16</th>\n",
       "      <td>2005</td>\n",
       "      <td>20</td>\n",
       "      <td>20</td>\n",
       "      <td>19</td>\n",
       "      <td>12</td>\n",
       "      <td>19</td>\n",
       "      <td>17</td>\n",
       "      <td>107</td>\n",
       "      <td>30</td>\n",
       "      <td>NaN</td>\n",
       "    </tr>\n",
       "    <tr>\n",
       "      <th>17</th>\n",
       "      <td>2004</td>\n",
       "      <td>27</td>\n",
       "      <td>25</td>\n",
       "      <td>18</td>\n",
       "      <td>14</td>\n",
       "      <td>15</td>\n",
       "      <td>14</td>\n",
       "      <td>113</td>\n",
       "      <td>25</td>\n",
       "      <td>NaN</td>\n",
       "    </tr>\n",
       "    <tr>\n",
       "      <th>18</th>\n",
       "      <td>2003</td>\n",
       "      <td>28</td>\n",
       "      <td>19</td>\n",
       "      <td>13</td>\n",
       "      <td>14</td>\n",
       "      <td>19</td>\n",
       "      <td>13</td>\n",
       "      <td>106</td>\n",
       "      <td>23</td>\n",
       "      <td>NaN</td>\n",
       "    </tr>\n",
       "    <tr>\n",
       "      <th>19</th>\n",
       "      <td>2002</td>\n",
       "      <td>32</td>\n",
       "      <td>23</td>\n",
       "      <td>15</td>\n",
       "      <td>16</td>\n",
       "      <td>20</td>\n",
       "      <td>13</td>\n",
       "      <td>119</td>\n",
       "      <td>21</td>\n",
       "      <td>NaN</td>\n",
       "    </tr>\n",
       "    <tr>\n",
       "      <th>20</th>\n",
       "      <td>2001</td>\n",
       "      <td>30</td>\n",
       "      <td>16</td>\n",
       "      <td>16</td>\n",
       "      <td>14</td>\n",
       "      <td>17</td>\n",
       "      <td>10</td>\n",
       "      <td>103</td>\n",
       "      <td>25</td>\n",
       "      <td>NaN</td>\n",
       "    </tr>\n",
       "    <tr>\n",
       "      <th>21</th>\n",
       "      <td>2000</td>\n",
       "      <td>29</td>\n",
       "      <td>22</td>\n",
       "      <td>13</td>\n",
       "      <td>12</td>\n",
       "      <td>15</td>\n",
       "      <td>13</td>\n",
       "      <td>104</td>\n",
       "      <td>27</td>\n",
       "      <td>NaN</td>\n",
       "    </tr>\n",
       "    <tr>\n",
       "      <th>22</th>\n",
       "      <td>1999</td>\n",
       "      <td>27</td>\n",
       "      <td>20</td>\n",
       "      <td>15</td>\n",
       "      <td>13</td>\n",
       "      <td>22</td>\n",
       "      <td>16</td>\n",
       "      <td>113</td>\n",
       "      <td>19</td>\n",
       "      <td>NaN</td>\n",
       "    </tr>\n",
       "    <tr>\n",
       "      <th>23</th>\n",
       "      <td>1998</td>\n",
       "      <td>27</td>\n",
       "      <td>21</td>\n",
       "      <td>11</td>\n",
       "      <td>11</td>\n",
       "      <td>20</td>\n",
       "      <td>16</td>\n",
       "      <td>106</td>\n",
       "      <td>20</td>\n",
       "      <td>NaN</td>\n",
       "    </tr>\n",
       "    <tr>\n",
       "      <th>24</th>\n",
       "      <td>1997</td>\n",
       "      <td>31</td>\n",
       "      <td>22</td>\n",
       "      <td>12</td>\n",
       "      <td>16</td>\n",
       "      <td>22</td>\n",
       "      <td>11</td>\n",
       "      <td>114</td>\n",
       "      <td>22</td>\n",
       "      <td>NaN</td>\n",
       "    </tr>\n",
       "    <tr>\n",
       "      <th>25</th>\n",
       "      <td>1996</td>\n",
       "      <td>31</td>\n",
       "      <td>23</td>\n",
       "      <td>13</td>\n",
       "      <td>16</td>\n",
       "      <td>24</td>\n",
       "      <td>13</td>\n",
       "      <td>120</td>\n",
       "      <td>22</td>\n",
       "      <td>NaN</td>\n",
       "    </tr>\n",
       "    <tr>\n",
       "      <th>26</th>\n",
       "      <td>1995</td>\n",
       "      <td>27</td>\n",
       "      <td>22</td>\n",
       "      <td>11</td>\n",
       "      <td>12</td>\n",
       "      <td>20</td>\n",
       "      <td>17</td>\n",
       "      <td>109</td>\n",
       "      <td>27</td>\n",
       "      <td>NaN</td>\n",
       "    </tr>\n",
       "  </tbody>\n",
       "</table>\n",
       "</div>"
      ],
      "text/plain": [
       "    YEAR  WARNER BROS  WALT DISNEY  20TH CENTURY FOX  PARAMOUNT PICTURES  \\\n",
       "0   2021           17            7                 0                   4   \n",
       "1   2020            5            3                 1                   3   \n",
       "2   2019           18           10                11                   9   \n",
       "3   2018           19           10                11                  10   \n",
       "4   2017           18            8                14                  10   \n",
       "5   2016           17           12                16                  12   \n",
       "6   2015           22           11                18                   9   \n",
       "7   2014           17           12                17                  10   \n",
       "8   2013           17            8                15                   8   \n",
       "9   2012           16           11                15                  13   \n",
       "10  2011           20           13                15                  13   \n",
       "11  2010           20           12                18                  12   \n",
       "12  2009           25           14                20                  10   \n",
       "13  2008           19           11                22                  14   \n",
       "14  2007           30           13                17                  16   \n",
       "15  2006           26           17                25                  13   \n",
       "16  2005           20           20                19                  12   \n",
       "17  2004           27           25                18                  14   \n",
       "18  2003           28           19                13                  14   \n",
       "19  2002           32           23                15                  16   \n",
       "20  2001           30           16                16                  14   \n",
       "21  2000           29           22                13                  12   \n",
       "22  1999           27           20                15                  13   \n",
       "23  1998           27           21                11                  11   \n",
       "24  1997           31           22                12                  16   \n",
       "25  1996           31           23                13                  16   \n",
       "26  1995           27           22                11                  12   \n",
       "\n",
       "    SONY PICTURES  UNIVERSAL  TOTAL MAJOR 6  TOTAL OTHER STUDIOS  Unnamed: 9  \n",
       "0              16         17             61                   38         NaN  \n",
       "1               9         13             34                   23         NaN  \n",
       "2              18         21             87                   44         NaN  \n",
       "3              16         20             86                   58         NaN  \n",
       "4              16         15             81                   50         NaN  \n",
       "5              16         22             95                   46         NaN  \n",
       "6              13         20             93                   33         NaN  \n",
       "7              17         15             88                   37         NaN  \n",
       "8              14         16             78                   42         NaN  \n",
       "9              18         17             90                   42         NaN  \n",
       "10             21         19            101                   35         NaN  \n",
       "11             17         17             96                   30         NaN  \n",
       "12             21         21            111                   30         NaN  \n",
       "13             19         19            104                   48         NaN  \n",
       "14             22         20            118                   50         NaN  \n",
       "15             26         21            128                   31         NaN  \n",
       "16             19         17            107                   30         NaN  \n",
       "17             15         14            113                   25         NaN  \n",
       "18             19         13            106                   23         NaN  \n",
       "19             20         13            119                   21         NaN  \n",
       "20             17         10            103                   25         NaN  \n",
       "21             15         13            104                   27         NaN  \n",
       "22             22         16            113                   19         NaN  \n",
       "23             20         16            106                   20         NaN  \n",
       "24             22         11            114                   22         NaN  \n",
       "25             24         13            120                   22         NaN  \n",
       "26             20         17            109                   27         NaN  "
      ]
     },
     "execution_count": 152,
     "metadata": {},
     "output_type": "execute_result"
    }
   ],
   "source": [
    "WideReleasesCount = pd.read_csv(r'C:/Users/Shrey/Desktop/archive/WideReleasesCount.csv')\n",
    "WideReleasesCount"
   ]
  },
  {
   "cell_type": "code",
   "execution_count": 153,
   "id": "01713244",
   "metadata": {
    "scrolled": true
   },
   "outputs": [
    {
     "data": {
      "text/plain": [
       "YEAR                     int64\n",
       "WARNER BROS              int64\n",
       "WALT DISNEY              int64\n",
       "20TH CENTURY FOX         int64\n",
       "PARAMOUNT PICTURES       int64\n",
       "SONY PICTURES            int64\n",
       "UNIVERSAL                int64\n",
       "TOTAL MAJOR 6            int64\n",
       "TOTAL OTHER STUDIOS      int64\n",
       "Unnamed: 9             float64\n",
       "dtype: object"
      ]
     },
     "execution_count": 153,
     "metadata": {},
     "output_type": "execute_result"
    }
   ],
   "source": [
    "WideReleasesCount.dtypes"
   ]
  },
  {
   "cell_type": "code",
   "execution_count": 154,
   "id": "c5c90705",
   "metadata": {
    "scrolled": true
   },
   "outputs": [],
   "source": [
    "WideReleasesCount = WideReleasesCount.drop(columns='Unnamed: 9')"
   ]
  },
  {
   "cell_type": "code",
   "execution_count": 155,
   "id": "a179ab2c",
   "metadata": {
    "scrolled": true
   },
   "outputs": [
    {
     "data": {
      "text/plain": [
       "YEAR                   0\n",
       "WARNER BROS            0\n",
       "WALT DISNEY            0\n",
       "20TH CENTURY FOX       0\n",
       "PARAMOUNT PICTURES     0\n",
       "SONY PICTURES          0\n",
       "UNIVERSAL              0\n",
       "TOTAL MAJOR 6          0\n",
       "TOTAL OTHER STUDIOS    0\n",
       "dtype: int64"
      ]
     },
     "execution_count": 155,
     "metadata": {},
     "output_type": "execute_result"
    }
   ],
   "source": [
    "WideReleasesCount.isna().sum()"
   ]
  },
  {
   "cell_type": "code",
   "execution_count": null,
   "id": "f550fa8a",
   "metadata": {
    "scrolled": true
   },
   "outputs": [],
   "source": []
  },
  {
   "cell_type": "code",
   "execution_count": null,
   "id": "7f051687",
   "metadata": {},
   "outputs": [],
   "source": []
  },
  {
   "cell_type": "code",
   "execution_count": null,
   "id": "45f1ebaa",
   "metadata": {},
   "outputs": [],
   "source": []
  },
  {
   "cell_type": "code",
   "execution_count": null,
   "id": "6954ff25",
   "metadata": {},
   "outputs": [],
   "source": []
  },
  {
   "cell_type": "code",
   "execution_count": 156,
   "id": "e07a9837",
   "metadata": {
    "scrolled": true
   },
   "outputs": [
    {
     "data": {
      "image/png": "[encoded data removed]",
      "text/plain": [
       "<Figure size 432x288 with 1 Axes>"
      ]
     },
     "metadata": {
      "needs_background": "light"
     },
     "output_type": "display_data"
    }
   ],
   "source": [
    "sns.lineplot(x=\"YEAR\", y=\"WARNER BROS\", data=WideReleasesCount)\n",
    "sns.lineplot(x=\"YEAR\", y=\"WALT DISNEY\", data=WideReleasesCount)\n",
    "sns.lineplot(x=\"YEAR\", y=\"20TH CENTURY FOX\", data=WideReleasesCount)\n",
    "sns.lineplot(x=\"YEAR\", y=\"PARAMOUNT PICTURES\", data=WideReleasesCount)\n",
    "sns.lineplot(x=\"YEAR\", y=\"SONY PICTURES\", data=WideReleasesCount)\n",
    "sns.lineplot(x=\"YEAR\", y=\"UNIVERSAL\", data=WideReleasesCount)\n",
    "\n",
    "# set label\n",
    "# plt.ylabel(\"Units Returned Unites Sold\")\n",
    "\n",
    "plt.show()"
   ]
  }
 ],
 "metadata": {
  "celltoolbar": "Raw Cell Format",
  "kernelspec": {
   "display_name": "Python 3 (ipykernel)",
   "language": "python",
   "name": "python3"
  },
  "language_info": {
   "codemirror_mode": {
    "name": "ipython",
    "version": 3
   },
   "file_extension": ".py",
   "mimetype": "text/x-python",
   "name": "python",
   "nbconvert_exporter": "python",
   "pygments_lexer": "ipython3",
   "version": "3.9.7"
  }
 },
 "nbformat": 4,
 "nbformat_minor": 5
}
