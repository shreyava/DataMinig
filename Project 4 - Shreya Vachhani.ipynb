{
 "cells": [
  {
   "cell_type": "code",
   "execution_count": null,
   "id": "145dfa9d",
   "metadata": {},
   "outputs": [],
   "source": [
    "!pip install plotly\n",
    "import pandas as pd\n",
    "import seaborn as sns\n",
    "import matplotlib.pyplot as plt\n",
    "import numpy as np\n",
    "from sklearn.decomposition import PCA\n",
    "from sklearn.preprocessing import StandardScaler\n",
    "from sklearn import preprocessing\n",
    "from sklearn.cluster import KMeans, AgglomerativeClustering\n",
    "import plotly.express as px"
   ]
  },
  {
   "cell_type": "code",
   "execution_count": null,
   "id": "8f1c9235",
   "metadata": {},
   "outputs": [],
   "source": [
    "df = pd.read_csv('wine-clustering.csv')\n",
    "df"
   ]
  },
  {
   "cell_type": "markdown",
   "id": "62f3b8ca",
   "metadata": {},
   "source": [
    "### Data Understanding/Visualization"
   ]
  },
  {
   "cell_type": "code",
   "execution_count": null,
   "id": "e3276bcd",
   "metadata": {},
   "outputs": [],
   "source": [
    "df.columns"
   ]
  },
  {
   "cell_type": "code",
   "execution_count": null,
   "id": "ade7501c",
   "metadata": {},
   "outputs": [],
   "source": [
    "df.describe()"
   ]
  },
  {
   "cell_type": "code",
   "execution_count": null,
   "id": "a5a96c7c",
   "metadata": {},
   "outputs": [],
   "source": [
    "df.dtypes"
   ]
  },
  {
   "cell_type": "code",
   "execution_count": null,
   "id": "f9f6a8d9",
   "metadata": {},
   "outputs": [],
   "source": [
    "sns.pairplot(df)"
   ]
  },
  {
   "cell_type": "code",
   "execution_count": null,
   "id": "2dbc7f64",
   "metadata": {},
   "outputs": [],
   "source": [
    "sns.heatmap(df.corr(), annot=True)\n",
    "plt.gcf().set_size_inches(9, 9)"
   ]
  },
  {
   "cell_type": "code",
   "execution_count": null,
   "id": "b2fc23a5",
   "metadata": {},
   "outputs": [],
   "source": [
    "df.corr()"
   ]
  },
  {
   "cell_type": "code",
   "execution_count": null,
   "id": "4d4b4b75",
   "metadata": {},
   "outputs": [],
   "source": [
    "sns.scatterplot(x='Total_Phenols', y='Flavanoids',hue='Hue', data=df)"
   ]
  },
  {
   "cell_type": "code",
   "execution_count": null,
   "id": "a2ac1ddd",
   "metadata": {},
   "outputs": [],
   "source": [
    "sns.scatterplot(x='Proline', y='Alcohol',hue=\"Hue\", data=df)"
   ]
  },
  {
   "cell_type": "code",
   "execution_count": null,
   "id": "915fdd5e",
   "metadata": {},
   "outputs": [],
   "source": [
    "sns.scatterplot(x='OD280', y='Flavanoids', hue=\"Hue\",data=df)"
   ]
  },
  {
   "cell_type": "markdown",
   "id": "0431c9ec",
   "metadata": {},
   "source": [
    "### Pre-processing the data"
   ]
  },
  {
   "cell_type": "code",
   "execution_count": null,
   "id": "7fd661df",
   "metadata": {},
   "outputs": [],
   "source": [
    "df.isna().sum()"
   ]
  },
  {
   "cell_type": "code",
   "execution_count": null,
   "id": "db50d424",
   "metadata": {},
   "outputs": [],
   "source": [
    "df.duplicated().sum()"
   ]
  },
  {
   "cell_type": "code",
   "execution_count": null,
   "id": "8074cab4",
   "metadata": {},
   "outputs": [],
   "source": [
    "# standardize values\n",
    "x = df.values\n",
    "x = StandardScaler().fit_transform(x)"
   ]
  },
  {
   "cell_type": "code",
   "execution_count": null,
   "id": "f07a8cbd",
   "metadata": {},
   "outputs": [],
   "source": [
    "#Create (2D) PCA for the data\n",
    "pca = PCA(n_components = 2)\n",
    "pca_mdl = pca.fit_transform(x)\n",
    "pca_df = pd.DataFrame(pca_mdl)\n",
    "pca_df"
   ]
  },
  {
   "cell_type": "markdown",
   "id": "7a5e4913",
   "metadata": {},
   "source": [
    "### K-Means Clustering"
   ]
  },
  {
   "cell_type": "code",
   "execution_count": null,
   "id": "83fe86b0",
   "metadata": {},
   "outputs": [],
   "source": [
    "inertia = []\n",
    "for k in range(1,8):\n",
    "    kmeans = KMeans(n_clusters=k, random_state=1).fit(x)\n",
    "    inertia.append(np.sqrt(kmeans.inertia_))"
   ]
  },
  {
   "cell_type": "code",
   "execution_count": null,
   "id": "a0571618",
   "metadata": {},
   "outputs": [],
   "source": [
    "plt.plot(range(1, 8), inertia, marker='s');\n",
    "plt.xlabel('$k$')\n",
    "plt.ylabel('Variance')"
   ]
  },
  {
   "cell_type": "code",
   "execution_count": null,
   "id": "831907f1",
   "metadata": {},
   "outputs": [],
   "source": [
    "kmeans = KMeans(n_clusters=2, random_state=1).fit(x)"
   ]
  },
  {
   "cell_type": "code",
   "execution_count": null,
   "id": "571a0c27",
   "metadata": {},
   "outputs": [],
   "source": [
    "y = kmeans.fit_predict(x)"
   ]
  },
  {
   "cell_type": "code",
   "execution_count": null,
   "id": "05a9f6a3",
   "metadata": {},
   "outputs": [],
   "source": [
    "y_df = pd.DataFrame(y, columns=['Cluster'])\n",
    "new_df = pd.concat([df, y_df], axis=1)\n",
    "new_df"
   ]
  },
  {
   "cell_type": "code",
   "execution_count": null,
   "id": "be728fa3",
   "metadata": {},
   "outputs": [],
   "source": [
    "pca_df"
   ]
  },
  {
   "cell_type": "code",
   "execution_count": null,
   "id": "8aeec230",
   "metadata": {},
   "outputs": [],
   "source": [
    "sns.scatterplot(x = pca_df[0], y = pca_df[1], hue=y)"
   ]
  },
  {
   "cell_type": "code",
   "execution_count": null,
   "id": "ac74feaf",
   "metadata": {},
   "outputs": [],
   "source": [
    "sns.scatterplot(x = pca_df[0], y = pca_df[1], hue=df['Alcohol'])"
   ]
  },
  {
   "cell_type": "code",
   "execution_count": null,
   "id": "493f185b",
   "metadata": {},
   "outputs": [],
   "source": [
    "sns.scatterplot(x = pca_df[0], y = pca_df[1], hue=df['Proanthocyanins'])"
   ]
  },
  {
   "cell_type": "code",
   "execution_count": null,
   "id": "42090155",
   "metadata": {},
   "outputs": [],
   "source": [
    "sns.scatterplot(x = pca_df[0], y = pca_df[1], hue=df['Nonflavanoid_Phenols'])"
   ]
  },
  {
   "cell_type": "code",
   "execution_count": null,
   "id": "d00a8433",
   "metadata": {},
   "outputs": [],
   "source": [
    "sns.scatterplot(x = pca_df[0], y = pca_df[1], hue=df['Flavanoids'])"
   ]
  },
  {
   "cell_type": "code",
   "execution_count": null,
   "id": "8ee96822",
   "metadata": {},
   "outputs": [],
   "source": [
    "fig = px.scatter(pd.concat([new_df, pca_df], axis = 1), \n",
    "                 x = 0, y = 1, color='Cluster', hover_data=['Alcohol', 'Malic_Acid', 'Ash', 'Ash_Alcanity', 'Magnesium',\n",
    "       'Total_Phenols', 'Flavanoids', 'Nonflavanoid_Phenols',\n",
    "       'Proanthocyanins', 'Color_Intensity', 'Hue', 'OD280', 'Proline'])\n",
    "fig.show()"
   ]
  },
  {
   "cell_type": "code",
   "execution_count": null,
   "id": "de7e95f8",
   "metadata": {},
   "outputs": [],
   "source": []
  }
 ],
 "metadata": {
  "kernelspec": {
   "display_name": "Python 3 (ipykernel)",
   "language": "python",
   "name": "python3"
  },
  "language_info": {
   "codemirror_mode": {
    "name": "ipython",
    "version": 3
   },
   "file_extension": ".py",
   "mimetype": "text/x-python",
   "name": "python",
   "nbconvert_exporter": "python",
   "pygments_lexer": "ipython3",
   "version": "3.9.7"
  }
 },
 "nbformat": 4,
 "nbformat_minor": 5
}
